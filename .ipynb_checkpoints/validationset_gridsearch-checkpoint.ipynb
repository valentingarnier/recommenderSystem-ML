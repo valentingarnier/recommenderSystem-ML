{
 "cells": [
  {
   "cell_type": "markdown",
   "metadata": {
    "colab_type": "text",
    "id": "F6ixSbfChmHD"
   },
   "source": [
    "# Tools Installation"
   ]
  },
  {
   "cell_type": "code",
   "execution_count": 1,
   "metadata": {
    "colab": {
     "base_uri": "https://localhost:8080/",
     "height": 275
    },
    "colab_type": "code",
    "executionInfo": {
     "elapsed": 37316,
     "status": "ok",
     "timestamp": 1576656482745,
     "user": {
      "displayName": "Valentin Garnier",
      "photoUrl": "https://lh3.googleusercontent.com/a-/AAuE7mB7QGXgO4SjxTppzWKwvSYrbcCpHaVHwXah3Jd7=s64",
      "userId": "05650069634095051258"
     },
     "user_tz": -60
    },
    "id": "5avYuvedhoN8",
    "outputId": "3161369a-1861-4a32-fbd8-3bbb1d1b09b4"
   },
   "outputs": [
    {
     "name": "stdout",
     "output_type": "stream",
     "text": [
      "Requirement already satisfied: scikit-surprise in /Users/valentingarnier/anaconda3/lib/python3.7/site-packages (1.1.0)\r\n",
      "Requirement already satisfied: scipy>=1.0.0 in /Users/valentingarnier/anaconda3/lib/python3.7/site-packages (from scikit-surprise) (1.2.1)\r\n",
      "Requirement already satisfied: numpy>=1.11.2 in /Users/valentingarnier/anaconda3/lib/python3.7/site-packages (from scikit-surprise) (1.16.2)\r\n",
      "Requirement already satisfied: six>=1.10.0 in /Users/valentingarnier/anaconda3/lib/python3.7/site-packages (from scikit-surprise) (1.12.0)\r\n",
      "Requirement already satisfied: joblib>=0.11 in /Users/valentingarnier/anaconda3/lib/python3.7/site-packages (from scikit-surprise) (0.14.0)\r\n"
     ]
    }
   ],
   "source": [
    "!pip install scikit-surprise"
   ]
  },
  {
   "cell_type": "code",
   "execution_count": 2,
   "metadata": {
    "colab": {
     "base_uri": "https://localhost:8080/",
     "height": 54
    },
    "colab_type": "code",
    "executionInfo": {
     "elapsed": 716,
     "status": "ok",
     "timestamp": 1576659069572,
     "user": {
      "displayName": "Valentin Garnier",
      "photoUrl": "https://lh3.googleusercontent.com/a-/AAuE7mB7QGXgO4SjxTppzWKwvSYrbcCpHaVHwXah3Jd7=s64",
      "userId": "05650069634095051258"
     },
     "user_tz": -60
    },
    "id": "BTio7K4ChuIB",
    "outputId": "7dfbf758-5819-4217-85fe-cb2454029ce2"
   },
   "outputs": [],
   "source": [
    "import pandas as pd\n",
    "import re\n",
    "import numpy as np\n",
    "import random\n",
    "import scipy\n",
    "import scipy.io\n",
    "import scipy.sparse as sp"
   ]
  },
  {
   "cell_type": "code",
   "execution_count": 3,
   "metadata": {
    "colab": {},
    "colab_type": "code",
    "id": "Kr3IG677hufS"
   },
   "outputs": [],
   "source": [
    "from surprise import NormalPredictor\n",
    "from surprise import Dataset\n",
    "from surprise import Reader\n",
    "from surprise.model_selection import cross_validate\n",
    "from surprise import accuracy\n",
    "from surprise import SVD\n",
    "from surprise import SVDpp\n",
    "from surprise import KNNBaseline\n",
    "from surprise import KNNBasic\n",
    "from surprise import SlopeOne\n",
    "from surprise import CoClustering\n",
    "from surprise import BaselineOnly\n",
    "from surprise import NMF\n",
    "from surprise.model_selection import GridSearchCV"
   ]
  },
  {
   "cell_type": "code",
   "execution_count": 4,
   "metadata": {
    "colab": {},
    "colab_type": "code",
    "id": "QbTeTsdy2ahn"
   },
   "outputs": [],
   "source": [
    "from sklearn.linear_model import LinearRegression\n",
    "from sklearn.linear_model import Ridge\n",
    "from sklearn.linear_model import RidgeCV\n",
    "from sklearn.model_selection import train_test_split\n",
    "from sklearn.model_selection import KFold as skFold\n",
    "\n",
    "from implementations import *\n",
    "from als import *"
   ]
  },
  {
   "cell_type": "markdown",
   "metadata": {
    "colab_type": "text",
    "id": "u8jlM0Tih1wT"
   },
   "source": [
    "# Work On Data"
   ]
  },
  {
   "cell_type": "code",
   "execution_count": 6,
   "metadata": {
    "colab": {},
    "colab_type": "code",
    "id": "oR767QqBh2Ju"
   },
   "outputs": [],
   "source": [
    "data = pd.read_csv(\"Datasets/data_train.csv\")\n",
    "\n",
    "seed = 211 # a prime number is better \n",
    "#seed = 988\n",
    "random.seed = 211"
   ]
  },
  {
   "cell_type": "markdown",
   "metadata": {},
   "source": [
    "This is where we split training and validation set"
   ]
  },
  {
   "cell_type": "code",
   "execution_count": 7,
   "metadata": {
    "colab": {
     "base_uri": "https://localhost:8080/",
     "height": 493
    },
    "colab_type": "code",
    "executionInfo": {
     "elapsed": 4225,
     "status": "ok",
     "timestamp": 1576660377146,
     "user": {
      "displayName": "Valentin Garnier",
      "photoUrl": "https://lh3.googleusercontent.com/a-/AAuE7mB7QGXgO4SjxTppzWKwvSYrbcCpHaVHwXah3Jd7=s64",
      "userId": "05650069634095051258"
     },
     "user_tz": -60
    },
    "id": "a3kcW1vOh4Hh",
    "outputId": "ab811289-e2f7-4b1b-926b-d2ce959859f7"
   },
   "outputs": [
    {
     "name": "stdout",
     "output_type": "stream",
     "text": [
      "         userId  movieId  rating\n",
      "158127     2595      136       1\n",
      "1130029    8494      945       4\n",
      "1035571    8775      819       4\n",
      "631701     7191      542       5\n",
      "427139     2098      352       4\n",
      "    userId  movieId  rating\n",
      "0       44        1       4\n",
      "11     165        1       3\n",
      "12     182        1       3\n",
      "15     333        1       3\n",
      "16     355        1       2\n"
     ]
    }
   ],
   "source": [
    "cleanedFrame = split3columns(data)\n",
    "\n",
    "trainingset = cleanedFrame.sample(frac = 0.8, random_state = seed)\n",
    "testset = cleanedFrame.drop(trainingset.index)\n",
    "\n",
    "print(trainingset.head(5))\n",
    "print(testset.head(5))"
   ]
  },
  {
   "cell_type": "code",
   "execution_count": 8,
   "metadata": {
    "colab": {},
    "colab_type": "code",
    "id": "fMIvfXv6h5uM"
   },
   "outputs": [],
   "source": [
    "reader = Reader(rating_scale=(1, 5))\n",
    "\n",
    "#Here we call surprise function \n",
    "\n",
    "trainset = Dataset.load_from_df(trainingset[['userId', 'movieId', 'rating']], reader)\n",
    "validationset = Dataset.load_from_df(testset[['userId', 'movieId', 'rating']], reader)"
   ]
  },
  {
   "cell_type": "markdown",
   "metadata": {
    "colab_type": "text",
    "id": "3BmKSqUNh-MH"
   },
   "source": [
    "## Build Trainset and Validation Set"
   ]
  },
  {
   "cell_type": "markdown",
   "metadata": {},
   "source": [
    "We need to keep track of validation label for ridge regression later. This is what the function getValidationLabels do"
   ]
  },
  {
   "cell_type": "code",
   "execution_count": 9,
   "metadata": {
    "colab": {},
    "colab_type": "code",
    "id": "JxdeU4r7BJAR"
   },
   "outputs": [],
   "source": [
    "training_data = trainset.build_full_trainset()\n",
    "validation_test = validationset.build_full_trainset().build_testset()"
   ]
  },
  {
   "cell_type": "code",
   "execution_count": 10,
   "metadata": {
    "colab": {
     "base_uri": "https://localhost:8080/",
     "height": 34
    },
    "colab_type": "code",
    "executionInfo": {
     "elapsed": 697,
     "status": "ok",
     "timestamp": 1576659225118,
     "user": {
      "displayName": "Valentin Garnier",
      "photoUrl": "https://lh3.googleusercontent.com/a-/AAuE7mB7QGXgO4SjxTppzWKwvSYrbcCpHaVHwXah3Jd7=s64",
      "userId": "05650069634095051258"
     },
     "user_tz": -60
    },
    "id": "MVwXsHBdd9Z9",
    "outputId": "aa690a2f-d8a1-4a96-dc4e-7e91dee347a3"
   },
   "outputs": [],
   "source": [
    "yvalid = getValidationLabels(validation_test)"
   ]
  },
  {
   "cell_type": "markdown",
   "metadata": {
    "colab_type": "text",
    "id": "dz74EMifiHkc"
   },
   "source": [
    "# Grid Searchs - Wal"
   ]
  },
  {
   "cell_type": "markdown",
   "metadata": {},
   "source": [
    "To perform grid Search, we apply function given by Surprise as it is already adapted to each algorithms.\n",
    "\n",
    "Unfortunately, for ALS we did not had the time to perform a grid search.\n",
    "Moreover, each grid search is not very big. It would have been nice to use google cloud for example."
   ]
  },
  {
   "cell_type": "markdown",
   "metadata": {
    "colab_type": "text",
    "id": "_iSCVAYDqrZg"
   },
   "source": [
    "## SVD"
   ]
  },
  {
   "cell_type": "code",
   "execution_count": null,
   "metadata": {
    "colab": {},
    "colab_type": "code",
    "id": "QHCUVbr6que2"
   },
   "outputs": [],
   "source": [
    "regression_rates = np.logspace(-6, 2, 5)\n",
    "lr_space = np.logspace(-6, 2, 5)\n",
    "factors = [20, 200, 400, 1000] #Reduce since we have an idea of a good number of factors(need more power)\n",
    "n_epoch_array = [3] #We think there is a linear relation between accuracy & n_epoch so 3 faster and enough.\n",
    "biased_array = [True]\n",
    "\n",
    "param_grid = {'n_factors': factors,\n",
    "              'n_epochs': n_epoch_array,\n",
    "              'reg_all': regression_rates,\n",
    "              'lr_all': lr_space,\n",
    "              'biased': biased_array\n",
    "              }\n",
    "gs = GridSearchCV(SVD, param_grid, measures=['rmse'], cv=2, n_jobs = -1, joblib_verbose = 20)\n",
    "\n",
    "gs.fit(trainset)\n",
    "\n",
    "# best RMSE score\n",
    "print(gs.best_score['rmse'])\n",
    "\n",
    "# combination of parameters that gave the best RMSE score\n",
    "print(gs.best_params['rmse'])"
   ]
  },
  {
   "cell_type": "code",
   "execution_count": null,
   "metadata": {
    "colab": {
     "base_uri": "https://localhost:8080/",
     "height": 1000
    },
    "colab_type": "code",
    "executionInfo": {
     "elapsed": 5850555,
     "status": "ok",
     "timestamp": 1576609961290,
     "user": {
      "displayName": "Valentin Garnier",
      "photoUrl": "https://lh3.googleusercontent.com/a-/AAuE7mB7QGXgO4SjxTppzWKwvSYrbcCpHaVHwXah3Jd7=s64",
      "userId": "05650069634095051258"
     },
     "user_tz": -60
    },
    "id": "l8JnYzH2rAvT",
    "outputId": "30822bf4-4103-46d6-81d6-8f51c50c2ed4"
   },
   "outputs": [],
   "source": [
    "algo = SVD()\n",
    "algo.biaised = True\n",
    "algo.n_factors = 400\n",
    "algo.verbose = True\n",
    "algo.reg_all = 0.1\n",
    "algo.lr_all = 0.01\n",
    "algo.n_epochs = 500\n",
    "algo.random_state = seed\n",
    "\n",
    "algo.fit(training_data)\n",
    "\n",
    "print(\"Now testing...\")\n",
    "\n",
    "pred_svd = algo.test(validation_test)\n",
    "accuracy.rmse(pred_svd)"
   ]
  },
  {
   "cell_type": "markdown",
   "metadata": {
    "colab_type": "text",
    "id": "trp-_8vIiJ_w"
   },
   "source": [
    "## SVD Without Baselines"
   ]
  },
  {
   "cell_type": "code",
   "execution_count": null,
   "metadata": {
    "colab": {},
    "colab_type": "code",
    "id": "zOuY0_dsiBxz"
   },
   "outputs": [],
   "source": [
    "regression_rates = np.logspace(-6, 2, 10)\n",
    "#factors = [1, 2, 4, 10, 50] since we found the best factors we deepen the gridsearch by looking only regression rates\n",
    "factors = [1]\n",
    "n_epoch_array = [500]\n",
    "biased_array = [False]\n",
    "\n",
    "param_grid = {'n_factors': factors,\n",
    "              'n_epochs': n_epoch_array,\n",
    "              'reg_all': regression_rates,\n",
    "              'biased': biased_array\n",
    "              }\n",
    "gs = GridSearchCV(SVD, param_grid, measures=['rmse'], cv=2, n_jobs = -1, joblib_verbose = 10)\n",
    "\n",
    "gs.fit(trainset)\n",
    "\n",
    "# best RMSE score\n",
    "print(gs.best_score['rmse'])\n",
    "\n",
    "# combination of parameters that gave the best RMSE score\n",
    "print(gs.best_params['rmse'])"
   ]
  },
  {
   "cell_type": "code",
   "execution_count": null,
   "metadata": {
    "colab": {},
    "colab_type": "code",
    "id": "l4zLYgYoigsv"
   },
   "outputs": [],
   "source": [
    "algo = SVD()\n",
    "algo.biaised = False\n",
    "algo.n_factors = 1\n",
    "algo.verbose = False\n",
    "algo.reg_all = 0.001\n",
    "algo.lr_all = 0.01\n",
    "algo.n_epochs = 500\n",
    "algo.random_state = seed\n",
    "\n",
    "algo.fit(training_data)\n",
    "print(\"Now testing...\")\n",
    "pred = algo.test(validation_test)\n",
    "accuracy.rmse(pred)"
   ]
  },
  {
   "cell_type": "markdown",
   "metadata": {
    "colab_type": "text",
    "id": "BjrUkq_uPnfK"
   },
   "source": [
    "## KNN Items"
   ]
  },
  {
   "cell_type": "code",
   "execution_count": null,
   "metadata": {
    "colab": {},
    "colab_type": "code",
    "id": "Ek-Pib0dPoXE"
   },
   "outputs": [],
   "source": [
    "neighbors = [10, 20, 50,220, 300]\n",
    "sim_options = {'name': ['pearson_baseline'],\n",
    "               'user_based': [False]  # compute  similarities between items\n",
    "               }\n",
    "\n",
    "bsl_options = {'method': ['als'],\n",
    "               'n_epochs': [50]\n",
    "               }               \n",
    "\n",
    "param_grid = {'k': neighbors,\n",
    "              'sim_options': sim_options,\n",
    "              'bsl_options': bsl_options\n",
    "              }\n",
    "gs_knn = GridSearchCV(KNNBaseline, param_grid, measures=['rmse'], cv=2, n_jobs = -1, joblib_verbose = 10)\n",
    "\n",
    "gs_knn.fit(trainset)\n",
    "\n",
    "# best RMSE score\n",
    "print(gs_knn.best_score['rmse'])\n",
    "\n",
    "# combination of parameters that gave the best RMSE score\n",
    "print(gs_knn.best_params['rmse'])"
   ]
  },
  {
   "cell_type": "code",
   "execution_count": null,
   "metadata": {
    "colab": {},
    "colab_type": "code",
    "id": "DimKBjhnFW6n"
   },
   "outputs": [],
   "source": [
    "algo = KNNBaseline()\n",
    "sim_options = {'name': 'pearson_baseline',\n",
    "               'user_based': False # compute  similarities between items\n",
    "               }\n",
    "\n",
    "bsl_options = {'method': 'als',\n",
    "               'n_epochs': 50\n",
    "               } \n",
    "\n",
    "algo.sim_options = sim_options\n",
    "algo.bsl_options = bsl_options\n",
    "algo.k = 220\n",
    "\n",
    "algo.fit(training_data)\n",
    "\n",
    "print(\"Now testing...\")\n",
    "pred_knn_items = algo.test(validation_test)\n",
    "accuracy.rmse(pred_knn_items)"
   ]
  },
  {
   "cell_type": "markdown",
   "metadata": {
    "colab_type": "text",
    "id": "DQ9RI4f40-Pb"
   },
   "source": [
    "## KNN Users"
   ]
  },
  {
   "cell_type": "code",
   "execution_count": 39,
   "metadata": {
    "colab": {},
    "colab_type": "code",
    "id": "gVq6mB121APg"
   },
   "outputs": [
    {
     "name": "stdout",
     "output_type": "stream",
     "text": [
      "Estimating biases using als...\n",
      "Computing the pearson_baseline similarity matrix...\n",
      "Done computing similarity matrix.\n",
      "RMSE: 0.9942\n"
     ]
    },
    {
     "data": {
      "text/plain": [
       "0.9941877291405572"
      ]
     },
     "execution_count": 39,
     "metadata": {},
     "output_type": "execute_result"
    }
   ],
   "source": [
    "algo = KNNBaseline()\n",
    "\n",
    "sim_options = {'name': 'pearson_baseline',\n",
    "               'user_based': True # compute  similarities between items\n",
    "               }\n",
    "\n",
    "bsl_options = {'method': 'als',\n",
    "               'n_epochs': 50\n",
    "               } \n",
    "algo.sim_options = sim_options\n",
    "algo.bsl_options = bsl_options\n",
    "algo.k = 220\n",
    "\n",
    "algo.fit(training_data)\n",
    "pred_knn_users = algo.test(validation_test)\n",
    "accuracy.rmse(pred_knn_users)"
   ]
  },
  {
   "cell_type": "markdown",
   "metadata": {
    "colab_type": "text",
    "id": "4Eoaay7qeQZH"
   },
   "source": [
    "## SVD++"
   ]
  },
  {
   "cell_type": "code",
   "execution_count": null,
   "metadata": {
    "colab": {},
    "colab_type": "code",
    "id": "RT-GTJmzeRoQ"
   },
   "outputs": [],
   "source": [
    "algo = SVDpp()\n",
    "algo.verbose = True\n",
    "algo.n_factors = 2\n",
    "algo.n_epochs = 50\n",
    "algo.random_state = seed\n",
    "\n",
    "algo.fit(training_data)\n",
    "pred_svdpp = algo.test(validation_test)\n",
    "accuracy.rmse(pred_svdpp)"
   ]
  },
  {
   "cell_type": "markdown",
   "metadata": {
    "colab_type": "text",
    "id": "K-fr8JFpe4Pe"
   },
   "source": [
    "## Slope One"
   ]
  },
  {
   "cell_type": "code",
   "execution_count": null,
   "metadata": {
    "colab": {},
    "colab_type": "code",
    "id": "LHtA4IZ1e5fY"
   },
   "outputs": [],
   "source": [
    "algo = SlopeOne()\n",
    "algo.fit(training_data)\n",
    "\n",
    "print(\"Now testing...\")\n",
    "pred_slope = algo.test(validation_test)\n",
    "accuracy.rmse(pred_slope)"
   ]
  },
  {
   "cell_type": "markdown",
   "metadata": {
    "colab_type": "text",
    "id": "tsd4Z2s4p5CZ"
   },
   "source": [
    "## Baselines"
   ]
  },
  {
   "cell_type": "code",
   "execution_count": 40,
   "metadata": {
    "colab": {
     "base_uri": "https://localhost:8080/",
     "height": 85
    },
    "colab_type": "code",
    "executionInfo": {
     "elapsed": 7924,
     "status": "ok",
     "timestamp": 1576659346360,
     "user": {
      "displayName": "Valentin Garnier",
      "photoUrl": "https://lh3.googleusercontent.com/a-/AAuE7mB7QGXgO4SjxTppzWKwvSYrbcCpHaVHwXah3Jd7=s64",
      "userId": "05650069634095051258"
     },
     "user_tz": -60
    },
    "id": "hx5b3UAHp7BS",
    "outputId": "884a00ee-a008-49e5-b02d-ad266bcf0e91"
   },
   "outputs": [
    {
     "name": "stdout",
     "output_type": "stream",
     "text": [
      "Estimating biases using als...\n",
      "Now testing...\n",
      "RMSE: 1.0011\n"
     ]
    },
    {
     "data": {
      "text/plain": [
       "1.0010826951956127"
      ]
     },
     "execution_count": 40,
     "metadata": {},
     "output_type": "execute_result"
    }
   ],
   "source": [
    "#Baselines\n",
    "algo = BaselineOnly()\n",
    "algo.fit(training_data)\n",
    "\n",
    "print(\"Now testing...\")\n",
    "pred_baselines = algo.test(validation_test)\n",
    "accuracy.rmse(pred_baselines)"
   ]
  },
  {
   "cell_type": "markdown",
   "metadata": {
    "colab_type": "text",
    "id": "SU9RMhhDqSm-"
   },
   "source": [
    "## Global Mean"
   ]
  },
  {
   "cell_type": "code",
   "execution_count": null,
   "metadata": {
    "colab": {},
    "colab_type": "code",
    "id": "kKQ4mZrJqUOi"
   },
   "outputs": [],
   "source": [
    "pred_global = globalMean(data, len(validation_test))"
   ]
  },
  {
   "cell_type": "markdown",
   "metadata": {
    "colab_type": "text",
    "id": "zwLONJ1awIbn"
   },
   "source": [
    "## User Mean & Item Mean"
   ]
  },
  {
   "cell_type": "code",
   "execution_count": null,
   "metadata": {
    "colab": {},
    "colab_type": "code",
    "id": "rZ9Sc9Jr6d51"
   },
   "outputs": [],
   "source": [
    "copie_validation = validation_test.copy()\n",
    "\n",
    "validation_frame = pd.DataFrame(copie_validation)\n",
    "validation_frame.columns= ['userId', 'movieId', 'rating']"
   ]
  },
  {
   "cell_type": "code",
   "execution_count": null,
   "metadata": {
    "colab": {
     "base_uri": "https://localhost:8080/",
     "height": 51
    },
    "colab_type": "code",
    "executionInfo": {
     "elapsed": 739,
     "status": "ok",
     "timestamp": 1576659551376,
     "user": {
      "displayName": "Valentin Garnier",
      "photoUrl": "https://lh3.googleusercontent.com/a-/AAuE7mB7QGXgO4SjxTppzWKwvSYrbcCpHaVHwXah3Jd7=s64",
      "userId": "05650069634095051258"
     },
     "user_tz": -60
    },
    "id": "YNnI81rPOck3",
    "outputId": "9a4e71f6-2255-46f3-d46b-3d8f2634afac"
   },
   "outputs": [],
   "source": [
    "pred_user = userMean(trainingset, validation_frame)\n",
    "pred_items = itemMean(trainingset, validation_frame)"
   ]
  },
  {
   "cell_type": "code",
   "execution_count": null,
   "metadata": {
    "colab": {},
    "colab_type": "code",
    "id": "su-XvyPr7owZ"
   },
   "outputs": [],
   "source": [
    "print(\"Users accuracy \", np.sqrt(np.mean((pred_user - yvalid)**2)))\n",
    "print(\"Items accuracy \", np.sqrt(np.mean((pred_items - yvalid)**2)))"
   ]
  },
  {
   "cell_type": "markdown",
   "metadata": {
    "colab_type": "text",
    "id": "U4TIKxp4oTqJ"
   },
   "source": [
    "## ALS"
   ]
  },
  {
   "cell_type": "markdown",
   "metadata": {},
   "source": [
    "As said before, ALS need a different format of the data for load_data in helpers. This is what getFrame do here. It reformat what surprise gives us, and make csv nicely so that load_data works as it should."
   ]
  },
  {
   "cell_type": "code",
   "execution_count": null,
   "metadata": {
    "colab": {},
    "colab_type": "code",
    "id": "OhB29_2vQHU4"
   },
   "outputs": [],
   "source": [
    "result_training = getFrame(trainingset)\n",
    "result_test = getFrame(testset)"
   ]
  },
  {
   "cell_type": "code",
   "execution_count": null,
   "metadata": {
    "colab": {},
    "colab_type": "code",
    "id": "rCKBJmMZu288"
   },
   "outputs": [],
   "source": [
    "result_training.to_csv(\"training_als.csv\", index = False)\n",
    "result_test.to_csv(\"testing_als.csv\", index = False)"
   ]
  },
  {
   "cell_type": "code",
   "execution_count": null,
   "metadata": {
    "colab": {
     "base_uri": "https://localhost:8080/",
     "height": 68
    },
    "colab_type": "code",
    "executionInfo": {
     "elapsed": 7830,
     "status": "ok",
     "timestamp": 1576661199985,
     "user": {
      "displayName": "Valentin Garnier",
      "photoUrl": "https://lh3.googleusercontent.com/a-/AAuE7mB7QGXgO4SjxTppzWKwvSYrbcCpHaVHwXah3Jd7=s64",
      "userId": "05650069634095051258"
     },
     "user_tz": -60
    },
    "id": "ImSHymzapH4v",
    "outputId": "57588377-5cde-4211-e292-dcf11e4e71ab"
   },
   "outputs": [],
   "source": [
    "from helpers import load_data, preprocess_data\n",
    "\n",
    "path_trainingset = \"training_als.csv\" #So that we can use functions from exercice 10\n",
    "path_testset = \"testing_als.csv\"\n",
    "\n",
    "ratings = load_data(path_trainingset)\n",
    "test = load_data(path_testset)\n",
    "\n",
    "test.shape\n",
    "ratings.shape"
   ]
  },
  {
   "cell_type": "code",
   "execution_count": null,
   "metadata": {
    "colab": {
     "base_uri": "https://localhost:8080/",
     "height": 283
    },
    "colab_type": "code",
    "executionInfo": {
     "elapsed": 1296,
     "status": "error",
     "timestamp": 1576661347286,
     "user": {
      "displayName": "Valentin Garnier",
      "photoUrl": "https://lh3.googleusercontent.com/a-/AAuE7mB7QGXgO4SjxTppzWKwvSYrbcCpHaVHwXah3Jd7=s64",
      "userId": "05650069634095051258"
     },
     "user_tz": -60
    },
    "id": "VtPPpvt0pA_G",
    "outputId": "b86b3413-1d12-4c5a-9fa2-332079530628"
   },
   "outputs": [],
   "source": [
    "user, item = ALS(ratings, test)\n",
    "\n",
    "predictions = item.T.dot(user)\n",
    "example_validation_frame = predictionFrameOrdered(pred_baselines, predictions)\n",
    "pred_als = example_validation_frame['rating'].values"
   ]
  },
  {
   "cell_type": "markdown",
   "metadata": {
    "colab_type": "text",
    "id": "VdTtVyRKffz3"
   },
   "source": [
    "# Blending"
   ]
  },
  {
   "cell_type": "markdown",
   "metadata": {},
   "source": [
    "In order to blend, we first stack all predictions in a matrix. So each column contains predictions for one model.\n",
    "And run a ridge regression using Scikit."
   ]
  },
  {
   "cell_type": "markdown",
   "metadata": {
    "colab_type": "text",
    "id": "Qqf4g5ilfkNq"
   },
   "source": [
    "## Stack Matrix"
   ]
  },
  {
   "cell_type": "code",
   "execution_count": null,
   "metadata": {
    "colab": {},
    "colab_type": "code",
    "id": "4liwdWHk24x5"
   },
   "outputs": [],
   "source": [
    "pred_svd = np.asarray(pred_svd)\n",
    "pred_svd = pred_svd[:, 3]\n",
    "\n",
    "pred_svdpp = np.asarray(pred_svdpp)\n",
    "pred_svdpp = pred_svdpp[:, 3]\n",
    "\n",
    "pred_slope = np.asarray(pred_slope)\n",
    "pred_slope = pred_slope[:, 3]\n",
    "\n",
    "pred_co = np.asarray(pred_co)\n",
    "pred_co = pred_co[:, 3]\n",
    "\n",
    "pred_knn_items = np.asarray(pred_knn_items)\n",
    "pred_knn_items = pred_knn_items[:, 3]\n",
    "\n",
    "pred_knn_users = np.asarray(pred_knn_users)\n",
    "pred_knn_users = pred_knn_users[:, 3]\n",
    "\n",
    "pred_baselines = np.asarray(pred_baselines)\n",
    "pred_baselines = pred_baselines[:, 3]\n",
    "\n",
    "pred = np.asarray(pred)\n",
    "pred = pred[:, 3]"
   ]
  },
  {
   "cell_type": "code",
   "execution_count": null,
   "metadata": {
    "colab": {},
    "colab_type": "code",
    "id": "uxTwQvk6fmeK"
   },
   "outputs": [],
   "source": [
    "stacked_predictions = np.column_stack((\n",
    "    pred_svd,\n",
    "    pred_svdpp,\n",
    "    pred_slope,\n",
    "    pred_knn_items,\n",
    "    pred_knn_users,\n",
    "    pred_baselines,\n",
    "    pred_global,\n",
    "    pred_user,\n",
    "    pred_items,\n",
    "    pred,\n",
    "    pred_als\n",
    "    ))"
   ]
  },
  {
   "cell_type": "code",
   "execution_count": null,
   "metadata": {
    "colab": {},
    "colab_type": "code",
    "id": "g8i10sLmdxSB"
   },
   "outputs": [],
   "source": [
    "#stacked_pred = pd.DataFrame(stacked_predictions, columns=('Model1', 'Model2','Model3','Model4','Model5','Model6','Model7','Model8', 'Model9', 'Model10', 'Model11'))\n",
    "\n",
    "#stacked_predictions.to_csv(\"all_models_validation.csv\", index = False)"
   ]
  },
  {
   "cell_type": "code",
   "execution_count": 5,
   "metadata": {
    "colab": {
     "base_uri": "https://localhost:8080/",
     "height": 204
    },
    "colab_type": "code",
    "executionInfo": {
     "elapsed": 2004,
     "status": "ok",
     "timestamp": 1576656534125,
     "user": {
      "displayName": "Valentin Garnier",
      "photoUrl": "https://lh3.googleusercontent.com/a-/AAuE7mB7QGXgO4SjxTppzWKwvSYrbcCpHaVHwXah3Jd7=s64",
      "userId": "05650069634095051258"
     },
     "user_tz": -60
    },
    "id": "41NDGdSAR-ox",
    "outputId": "f10303a1-4ac3-4099-e42e-8860ebf567d1"
   },
   "outputs": [
    {
     "data": {
      "text/html": [
       "<div>\n",
       "<style scoped>\n",
       "    .dataframe tbody tr th:only-of-type {\n",
       "        vertical-align: middle;\n",
       "    }\n",
       "\n",
       "    .dataframe tbody tr th {\n",
       "        vertical-align: top;\n",
       "    }\n",
       "\n",
       "    .dataframe thead th {\n",
       "        text-align: right;\n",
       "    }\n",
       "</style>\n",
       "<table border=\"1\" class=\"dataframe\">\n",
       "  <thead>\n",
       "    <tr style=\"text-align: right;\">\n",
       "      <th></th>\n",
       "      <th>Model1</th>\n",
       "      <th>Model2</th>\n",
       "      <th>Model3</th>\n",
       "      <th>Model4</th>\n",
       "      <th>Model5</th>\n",
       "      <th>Model6</th>\n",
       "      <th>Model7</th>\n",
       "      <th>Model8</th>\n",
       "      <th>Model9</th>\n",
       "      <th>Model10</th>\n",
       "      <th>Model11</th>\n",
       "    </tr>\n",
       "  </thead>\n",
       "  <tbody>\n",
       "    <tr>\n",
       "      <th>0</th>\n",
       "      <td>3.876532</td>\n",
       "      <td>3.785445</td>\n",
       "      <td>3.498297</td>\n",
       "      <td>3.657951</td>\n",
       "      <td>3.631313</td>\n",
       "      <td>3.488513</td>\n",
       "      <td>3.857281</td>\n",
       "      <td>3.917874</td>\n",
       "      <td>3.378182</td>\n",
       "      <td>3.475041</td>\n",
       "      <td>3.679562</td>\n",
       "    </tr>\n",
       "    <tr>\n",
       "      <th>1</th>\n",
       "      <td>2.822582</td>\n",
       "      <td>3.737054</td>\n",
       "      <td>3.546125</td>\n",
       "      <td>3.361019</td>\n",
       "      <td>3.482206</td>\n",
       "      <td>3.530627</td>\n",
       "      <td>3.857281</td>\n",
       "      <td>3.917874</td>\n",
       "      <td>3.344086</td>\n",
       "      <td>3.658310</td>\n",
       "      <td>3.407580</td>\n",
       "    </tr>\n",
       "    <tr>\n",
       "      <th>2</th>\n",
       "      <td>3.427123</td>\n",
       "      <td>3.949398</td>\n",
       "      <td>4.034495</td>\n",
       "      <td>4.119559</td>\n",
       "      <td>4.019512</td>\n",
       "      <td>4.041308</td>\n",
       "      <td>3.857281</td>\n",
       "      <td>3.917874</td>\n",
       "      <td>3.859935</td>\n",
       "      <td>3.895567</td>\n",
       "      <td>3.889519</td>\n",
       "    </tr>\n",
       "    <tr>\n",
       "      <th>3</th>\n",
       "      <td>3.271740</td>\n",
       "      <td>4.087095</td>\n",
       "      <td>4.156967</td>\n",
       "      <td>3.945576</td>\n",
       "      <td>4.016178</td>\n",
       "      <td>4.082634</td>\n",
       "      <td>3.857281</td>\n",
       "      <td>3.917874</td>\n",
       "      <td>3.880123</td>\n",
       "      <td>4.154114</td>\n",
       "      <td>3.796000</td>\n",
       "    </tr>\n",
       "    <tr>\n",
       "      <th>4</th>\n",
       "      <td>3.398989</td>\n",
       "      <td>3.879055</td>\n",
       "      <td>3.642492</td>\n",
       "      <td>3.691770</td>\n",
       "      <td>3.664836</td>\n",
       "      <td>3.690239</td>\n",
       "      <td>3.857281</td>\n",
       "      <td>3.917874</td>\n",
       "      <td>3.517572</td>\n",
       "      <td>3.742409</td>\n",
       "      <td>3.931653</td>\n",
       "    </tr>\n",
       "  </tbody>\n",
       "</table>\n",
       "</div>"
      ],
      "text/plain": [
       "     Model1    Model2    Model3    Model4    Model5    Model6    Model7  \\\n",
       "0  3.876532  3.785445  3.498297  3.657951  3.631313  3.488513  3.857281   \n",
       "1  2.822582  3.737054  3.546125  3.361019  3.482206  3.530627  3.857281   \n",
       "2  3.427123  3.949398  4.034495  4.119559  4.019512  4.041308  3.857281   \n",
       "3  3.271740  4.087095  4.156967  3.945576  4.016178  4.082634  3.857281   \n",
       "4  3.398989  3.879055  3.642492  3.691770  3.664836  3.690239  3.857281   \n",
       "\n",
       "     Model8    Model9   Model10   Model11  \n",
       "0  3.917874  3.378182  3.475041  3.679562  \n",
       "1  3.917874  3.344086  3.658310  3.407580  \n",
       "2  3.917874  3.859935  3.895567  3.889519  \n",
       "3  3.917874  3.880123  4.154114  3.796000  \n",
       "4  3.917874  3.517572  3.742409  3.931653  "
      ]
     },
     "execution_count": 5,
     "metadata": {},
     "output_type": "execute_result"
    }
   ],
   "source": [
    "path = \"SafeguardModels/all_models_validation.csv\"\n",
    "stacked_pred = pd.read_csv(path)\n",
    "\n",
    "stacked_pred.head(5)"
   ]
  },
  {
   "cell_type": "code",
   "execution_count": 6,
   "metadata": {
    "colab": {
     "base_uri": "https://localhost:8080/",
     "height": 204
    },
    "colab_type": "code",
    "executionInfo": {
     "elapsed": 900,
     "status": "ok",
     "timestamp": 1576656550105,
     "user": {
      "displayName": "Valentin Garnier",
      "photoUrl": "https://lh3.googleusercontent.com/a-/AAuE7mB7QGXgO4SjxTppzWKwvSYrbcCpHaVHwXah3Jd7=s64",
      "userId": "05650069634095051258"
     },
     "user_tz": -60
    },
    "id": "k45ES6w_7Ay5",
    "outputId": "1e9b700e-d7fe-4261-d9ec-e93e479cc44f"
   },
   "outputs": [
    {
     "data": {
      "text/html": [
       "<div>\n",
       "<style scoped>\n",
       "    .dataframe tbody tr th:only-of-type {\n",
       "        vertical-align: middle;\n",
       "    }\n",
       "\n",
       "    .dataframe tbody tr th {\n",
       "        vertical-align: top;\n",
       "    }\n",
       "\n",
       "    .dataframe thead th {\n",
       "        text-align: right;\n",
       "    }\n",
       "</style>\n",
       "<table border=\"1\" class=\"dataframe\">\n",
       "  <thead>\n",
       "    <tr style=\"text-align: right;\">\n",
       "      <th></th>\n",
       "      <th>Model11</th>\n",
       "    </tr>\n",
       "  </thead>\n",
       "  <tbody>\n",
       "    <tr>\n",
       "      <th>0</th>\n",
       "      <td>3.679562</td>\n",
       "    </tr>\n",
       "    <tr>\n",
       "      <th>1</th>\n",
       "      <td>3.407580</td>\n",
       "    </tr>\n",
       "    <tr>\n",
       "      <th>2</th>\n",
       "      <td>3.889519</td>\n",
       "    </tr>\n",
       "    <tr>\n",
       "      <th>3</th>\n",
       "      <td>3.796000</td>\n",
       "    </tr>\n",
       "    <tr>\n",
       "      <th>4</th>\n",
       "      <td>3.931653</td>\n",
       "    </tr>\n",
       "  </tbody>\n",
       "</table>\n",
       "</div>"
      ],
      "text/plain": [
       "    Model11\n",
       "0  3.679562\n",
       "1  3.407580\n",
       "2  3.889519\n",
       "3  3.796000\n",
       "4  3.931653"
      ]
     },
     "execution_count": 6,
     "metadata": {},
     "output_type": "execute_result"
    }
   ],
   "source": [
    "best_models = stacked_pred.drop(columns=['Model6','Model10','Model7', 'Model4', 'Model3', 'Model9', 'Model8'])\n",
    "stacked_pred_matrix = best_models.values\n",
    "\n",
    "best_models.head()"
   ]
  },
  {
   "cell_type": "markdown",
   "metadata": {
    "colab_type": "text",
    "id": "S8BZD592VdkS"
   },
   "source": [
    "## Feature Expansion"
   ]
  },
  {
   "cell_type": "markdown",
   "metadata": {},
   "source": [
    "We obtained a better accuracy doing feature expansion. Here also, it would have been nice to perform a grid search on the degree of the expansion. We did not did that because of a lack of time."
   ]
  },
  {
   "cell_type": "code",
   "execution_count": 52,
   "metadata": {
    "colab": {},
    "colab_type": "code",
    "id": "3pso0eVAVc7L"
   },
   "outputs": [],
   "source": [
    "from sklearn.preprocessing import PolynomialFeatures"
   ]
  },
  {
   "cell_type": "code",
   "execution_count": 53,
   "metadata": {
    "colab": {
     "base_uri": "https://localhost:8080/",
     "height": 34
    },
    "colab_type": "code",
    "executionInfo": {
     "elapsed": 1320,
     "status": "ok",
     "timestamp": 1576656555651,
     "user": {
      "displayName": "Valentin Garnier",
      "photoUrl": "https://lh3.googleusercontent.com/a-/AAuE7mB7QGXgO4SjxTppzWKwvSYrbcCpHaVHwXah3Jd7=s64",
      "userId": "05650069634095051258"
     },
     "user_tz": -60
    },
    "id": "MzcfCOHWV4ET",
    "outputId": "53183471-c237-40eb-a84f-a0c268a0af12"
   },
   "outputs": [
    {
     "name": "stdout",
     "output_type": "stream",
     "text": [
      "(235390, 3)\n"
     ]
    }
   ],
   "source": [
    "poly = PolynomialFeatures(2, interaction_only=False)\n",
    "stacked_pred_matrix = poly.fit_transform(stacked_pred_matrix)\n",
    "print(stacked_pred_matrix.shape)"
   ]
  },
  {
   "cell_type": "markdown",
   "metadata": {
    "colab_type": "text",
    "id": "bip3auId6GYk"
   },
   "source": [
    "# Ridge Regression"
   ]
  },
  {
   "cell_type": "code",
   "execution_count": 54,
   "metadata": {
    "colab": {},
    "colab_type": "code",
    "id": "Y_qfFbQrf4zU"
   },
   "outputs": [],
   "source": [
    "x_tr, x_te, y_tr, y_te = train_test_split(stacked_pred_matrix, yvalid, test_size=0.3, random_state=seed)"
   ]
  },
  {
   "cell_type": "code",
   "execution_count": 55,
   "metadata": {
    "colab": {
     "base_uri": "https://localhost:8080/",
     "height": 204
    },
    "colab_type": "code",
    "executionInfo": {
     "elapsed": 9556,
     "status": "ok",
     "timestamp": 1576656570339,
     "user": {
      "displayName": "Valentin Garnier",
      "photoUrl": "https://lh3.googleusercontent.com/a-/AAuE7mB7QGXgO4SjxTppzWKwvSYrbcCpHaVHwXah3Jd7=s64",
      "userId": "05650069634095051258"
     },
     "user_tz": -60
    },
    "id": "zxsztho7fhfN",
    "outputId": "c373caf1-b9ba-46ff-aee6-a8416121a2eb"
   },
   "outputs": [
    {
     "name": "stdout",
     "output_type": "stream",
     "text": [
      "best weight for regression [0.73725389 0.70358694 0.03262412]\n",
      "Best lambda for regression 0.3359818286283788\n"
     ]
    }
   ],
   "source": [
    "cv_ridge = skFold(n_splits = 3)\n",
    "alphas_array = np.logspace(-8, 3, 20)\n",
    "clf = RidgeCV(alphas = alphas_array, fit_intercept=False, scoring=\"neg_mean_squared_error\", cv=cv_ridge)\n",
    "clf.fit(x_tr, y_tr)\n",
    "\n",
    "weights_opt = clf.coef_\n",
    "\n",
    "print(\"best weight for regression\", weights_opt)\n",
    "print(\"Best lambda for regression\", clf.alpha_)\n",
    "\n",
    "targets = clf.predict(x_te).clip(1, 5)"
   ]
  },
  {
   "cell_type": "code",
   "execution_count": 56,
   "metadata": {
    "colab": {
     "base_uri": "https://localhost:8080/",
     "height": 34
    },
    "colab_type": "code",
    "executionInfo": {
     "elapsed": 6472,
     "status": "ok",
     "timestamp": 1576656570340,
     "user": {
      "displayName": "Valentin Garnier",
      "photoUrl": "https://lh3.googleusercontent.com/a-/AAuE7mB7QGXgO4SjxTppzWKwvSYrbcCpHaVHwXah3Jd7=s64",
      "userId": "05650069634095051258"
     },
     "user_tz": -60
    },
    "id": "QKKs1KYe2Rqw",
    "outputId": "8b6e5fd1-e275-4469-c980-6b24447744a9"
   },
   "outputs": [
    {
     "name": "stdout",
     "output_type": "stream",
     "text": [
      "1.0286478102832755\n"
     ]
    }
   ],
   "source": [
    "#compute score\n",
    "final_accuracy = np.sqrt(np.mean((y_te - np.around(targets)) ** 2))\n",
    "print(final_accuracy)"
   ]
  },
  {
   "cell_type": "markdown",
   "metadata": {
    "colab_type": "text",
    "id": "nk9cG9cFuik2"
   },
   "source": [
    "1.0239841 -> AICROWD: 1.020 -> Feature exp: 2 Model1 Model2 Model5 Model11"
   ]
  },
  {
   "cell_type": "code",
   "execution_count": null,
   "metadata": {},
   "outputs": [],
   "source": []
  }
 ],
 "metadata": {
  "colab": {
   "collapsed_sections": [
    "_iSCVAYDqrZg",
    "trp-_8vIiJ_w",
    "BjrUkq_uPnfK",
    "DQ9RI4f40-Pb",
    "4Eoaay7qeQZH",
    "K-fr8JFpe4Pe",
    "_ax985YjfGhR",
    "tsd4Z2s4p5CZ",
    "SU9RMhhDqSm-",
    "zwLONJ1awIbn"
   ],
   "name": "Wal-ValidationSet-GridSearch.ipynb",
   "provenance": [],
   "toc_visible": true
  },
  "kernelspec": {
   "display_name": "Python 3",
   "language": "python",
   "name": "python3"
  },
  "language_info": {
   "codemirror_mode": {
    "name": "ipython",
    "version": 3
   },
   "file_extension": ".py",
   "mimetype": "text/x-python",
   "name": "python",
   "nbconvert_exporter": "python",
   "pygments_lexer": "ipython3",
   "version": "3.7.3"
  }
 },
 "nbformat": 4,
 "nbformat_minor": 1
}
