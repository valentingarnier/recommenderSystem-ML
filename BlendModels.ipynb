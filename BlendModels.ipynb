{
 "cells": [
  {
   "cell_type": "markdown",
   "metadata": {
    "colab_type": "text",
    "id": "Tpbqx3HL01PE"
   },
   "source": [
    "#Tools Installation"
   ]
  },
  {
   "cell_type": "code",
   "execution_count": 1,
   "metadata": {
    "colab": {
     "base_uri": "https://localhost:8080/",
     "height": 275
    },
    "colab_type": "code",
    "executionInfo": {
     "elapsed": 36695,
     "status": "ok",
     "timestamp": 1576656498906,
     "user": {
      "displayName": "Valentin Garnier",
      "photoUrl": "https://lh3.googleusercontent.com/a-/AAuE7mB7QGXgO4SjxTppzWKwvSYrbcCpHaVHwXah3Jd7=s64",
      "userId": "05650069634095051258"
     },
     "user_tz": -60
    },
    "id": "ukDl5AgdfUib",
    "outputId": "dd7ee977-a4e1-4aae-c621-ac39a317ef34"
   },
   "outputs": [
    {
     "name": "stdout",
     "output_type": "stream",
     "text": [
      "Requirement already satisfied: scikit-surprise in /Users/valentingarnier/anaconda3/lib/python3.7/site-packages (1.1.0)\n",
      "Requirement already satisfied: numpy>=1.11.2 in /Users/valentingarnier/anaconda3/lib/python3.7/site-packages (from scikit-surprise) (1.16.2)\n",
      "Requirement already satisfied: six>=1.10.0 in /Users/valentingarnier/anaconda3/lib/python3.7/site-packages (from scikit-surprise) (1.12.0)\n",
      "Requirement already satisfied: scipy>=1.0.0 in /Users/valentingarnier/anaconda3/lib/python3.7/site-packages (from scikit-surprise) (1.2.1)\n",
      "Requirement already satisfied: joblib>=0.11 in /Users/valentingarnier/anaconda3/lib/python3.7/site-packages (from scikit-surprise) (0.14.0)\n"
     ]
    }
   ],
   "source": [
    "!pip install scikit-surprise"
   ]
  },
  {
   "cell_type": "code",
   "execution_count": 2,
   "metadata": {
    "colab": {
     "base_uri": "https://localhost:8080/",
     "height": 54
    },
    "colab_type": "code",
    "executionInfo": {
     "elapsed": 779,
     "status": "ok",
     "timestamp": 1576658587265,
     "user": {
      "displayName": "Valentin Garnier",
      "photoUrl": "https://lh3.googleusercontent.com/a-/AAuE7mB7QGXgO4SjxTppzWKwvSYrbcCpHaVHwXah3Jd7=s64",
      "userId": "05650069634095051258"
     },
     "user_tz": -60
    },
    "id": "v7OK93Rofpi6",
    "outputId": "6232adc5-0b84-40de-83e3-6a8014620697"
   },
   "outputs": [],
   "source": [
    "from sklearn.ensemble import RandomForestRegressor\n",
    "from sklearn.linear_model import LinearRegression\n",
    "import numpy as np\n",
    "from sklearn.model_selection import train_test_split\n",
    "\n",
    "import pandas as pd\n",
    "import re\n",
    "import numpy as np"
   ]
  },
  {
   "cell_type": "code",
   "execution_count": 3,
   "metadata": {
    "colab": {},
    "colab_type": "code",
    "id": "ctZU1CHRxmXb"
   },
   "outputs": [],
   "source": [
    "from surprise import NormalPredictor\n",
    "from surprise import Dataset\n",
    "from surprise import Reader\n",
    "from surprise.model_selection import cross_validate\n",
    "from surprise import accuracy\n",
    "from surprise import SVD\n",
    "from surprise import SVDpp\n",
    "from surprise import KNNBaseline\n",
    "from surprise import KNNBasic\n",
    "from surprise import SlopeOne\n",
    "from surprise import CoClustering\n",
    "from surprise import BaselineOnly\n",
    "from surprise import NMF\n",
    "from surprise.model_selection import train_test_split\n",
    "\n",
    "from sklearn.linear_model import LinearRegression\n",
    "from sklearn.linear_model import Ridge\n",
    "from sklearn.linear_model import RidgeCV\n",
    "from sklearn.model_selection import train_test_split\n",
    "from sklearn.model_selection import KFold as skFold\n",
    "import random"
   ]
  },
  {
   "cell_type": "markdown",
   "metadata": {
    "colab_type": "text",
    "id": "B04H_9Cz04aA"
   },
   "source": [
    "# Work On Given Data"
   ]
  },
  {
   "cell_type": "code",
   "execution_count": 4,
   "metadata": {
    "colab": {
     "base_uri": "https://localhost:8080/",
     "height": 255
    },
    "colab_type": "code",
    "executionInfo": {
     "elapsed": 2330,
     "status": "ok",
     "timestamp": 1576658606963,
     "user": {
      "displayName": "Valentin Garnier",
      "photoUrl": "https://lh3.googleusercontent.com/a-/AAuE7mB7QGXgO4SjxTppzWKwvSYrbcCpHaVHwXah3Jd7=s64",
      "userId": "05650069634095051258"
     },
     "user_tz": -60
    },
    "id": "1eHol4m_0Xh5",
    "outputId": "4fdaa64b-a1c2-40e4-b277-5d2d18640eae"
   },
   "outputs": [
    {
     "name": "stdout",
     "output_type": "stream",
     "text": [
      "<bound method NDFrame.head of                    Id  Prediction\n",
      "0              r44_c1           4\n",
      "1              r61_c1           3\n",
      "2              r67_c1           4\n",
      "3              r72_c1           3\n",
      "4              r86_c1           5\n",
      "5              r90_c1           4\n",
      "6             r108_c1           3\n",
      "7             r114_c1           3\n",
      "8             r120_c1           2\n",
      "9             r135_c1           5\n",
      "10            r152_c1           4\n",
      "11            r165_c1           3\n",
      "12            r182_c1           3\n",
      "13            r310_c1           3\n",
      "14            r318_c1           1\n",
      "15            r333_c1           3\n",
      "16            r355_c1           2\n",
      "17            r390_c1           4\n",
      "18            r401_c1           4\n",
      "19            r410_c1           2\n",
      "20            r418_c1           3\n",
      "21            r457_c1           2\n",
      "22            r470_c1           4\n",
      "23            r497_c1           3\n",
      "24            r516_c1           3\n",
      "25            r566_c1           3\n",
      "26            r595_c1           2\n",
      "27            r670_c1           3\n",
      "28            r673_c1           4\n",
      "29            r708_c1           1\n",
      "...               ...         ...\n",
      "1176922   r9846_c1000           3\n",
      "1176923   r9855_c1000           4\n",
      "1176924   r9867_c1000           3\n",
      "1176925   r9874_c1000           5\n",
      "1176926   r9875_c1000           3\n",
      "1176927   r9884_c1000           2\n",
      "1176928   r9890_c1000           5\n",
      "1176929   r9904_c1000           5\n",
      "1176930   r9909_c1000           4\n",
      "1176931   r9913_c1000           2\n",
      "1176932   r9922_c1000           3\n",
      "1176933   r9925_c1000           3\n",
      "1176934   r9929_c1000           4\n",
      "1176935   r9936_c1000           2\n",
      "1176936   r9944_c1000           4\n",
      "1176937   r9945_c1000           5\n",
      "1176938   r9949_c1000           4\n",
      "1176939   r9957_c1000           3\n",
      "1176940   r9958_c1000           4\n",
      "1176941   r9960_c1000           3\n",
      "1176942   r9961_c1000           4\n",
      "1176943   r9964_c1000           3\n",
      "1176944   r9968_c1000           5\n",
      "1176945   r9970_c1000           5\n",
      "1176946   r9976_c1000           5\n",
      "1176947   r9990_c1000           4\n",
      "1176948   r9992_c1000           5\n",
      "1176949   r9994_c1000           3\n",
      "1176950   r9997_c1000           4\n",
      "1176951  r10000_c1000           3\n",
      "\n",
      "[1176952 rows x 2 columns]>\n"
     ]
    }
   ],
   "source": [
    "data = pd.read_csv(\"Datasets/data_train.csv\")\n",
    "print(data.head)\n",
    "\n",
    "sample = pd.read_csv(\"Datasets/sample_submission.csv\")\n",
    "\n",
    "seed = 211 # as exercice 10\n",
    "random.seed = seed"
   ]
  },
  {
   "cell_type": "code",
   "execution_count": 5,
   "metadata": {
    "colab": {},
    "colab_type": "code",
    "id": "3sseNYrEKc4T"
   },
   "outputs": [],
   "source": [
    "from implementations import *"
   ]
  },
  {
   "cell_type": "code",
   "execution_count": 6,
   "metadata": {
    "colab": {
     "base_uri": "https://localhost:8080/",
     "height": 221
    },
    "colab_type": "code",
    "executionInfo": {
     "elapsed": 7137,
     "status": "ok",
     "timestamp": 1576659044074,
     "user": {
      "displayName": "Valentin Garnier",
      "photoUrl": "https://lh3.googleusercontent.com/a-/AAuE7mB7QGXgO4SjxTppzWKwvSYrbcCpHaVHwXah3Jd7=s64",
      "userId": "05650069634095051258"
     },
     "user_tz": -60
    },
    "id": "4DijImES0nT3",
    "outputId": "2e14a718-56da-4535-fedd-ff3d3e2c9eaf"
   },
   "outputs": [
    {
     "name": "stdout",
     "output_type": "stream",
     "text": [
      "   userId  movieId  rating\n",
      "0      44        1       4\n",
      "1      61        1       3\n",
      "2      67        1       4\n",
      "3      72        1       3\n",
      "4      86        1       5\n",
      "   userId  movieId  rating\n",
      "0      37        1       3\n",
      "1      73        1       3\n",
      "2     156        1       3\n",
      "3     160        1       3\n",
      "4     248        1       3\n"
     ]
    }
   ],
   "source": [
    "cleanedFrame = split3columns(data)\n",
    "print(cleanedFrame.head())\n",
    "\n",
    "\n",
    "sampleFrame = split3columns(sample)\n",
    "print(sampleFrame.head())"
   ]
  },
  {
   "cell_type": "code",
   "execution_count": 7,
   "metadata": {
    "colab": {},
    "colab_type": "code",
    "id": "td3r1V-d0pqP"
   },
   "outputs": [],
   "source": [
    "reader = Reader(rating_scale=(1, 5))\n",
    "\n",
    "#Here we call surprise function \n",
    "\n",
    "dataCleaned = Dataset.load_from_df(cleanedFrame[['userId', 'movieId', 'rating']], reader)\n",
    "sampleCleaned = Dataset.load_from_df(sampleFrame[['userId', 'movieId', 'rating']], reader)"
   ]
  },
  {
   "cell_type": "markdown",
   "metadata": {
    "colab_type": "text",
    "id": "Nk4JM21S07l1"
   },
   "source": [
    "## Build Trainsets and Testsets"
   ]
  },
  {
   "cell_type": "code",
   "execution_count": 8,
   "metadata": {
    "colab": {},
    "colab_type": "code",
    "id": "j264m42_0rab"
   },
   "outputs": [],
   "source": [
    "trainset = dataCleaned.build_full_trainset()\n",
    "testset = sampleCleaned.build_full_trainset().build_testset()"
   ]
  },
  {
   "cell_type": "code",
   "execution_count": 18,
   "metadata": {},
   "outputs": [],
   "source": [
    "testset_reordered = reorderTestset(testset)"
   ]
  },
  {
   "cell_type": "code",
   "execution_count": 19,
   "metadata": {},
   "outputs": [
    {
     "name": "stdout",
     "output_type": "stream",
     "text": [
      "1176952\n"
     ]
    }
   ],
   "source": [
    "print(len(testset))"
   ]
  },
  {
   "cell_type": "code",
   "execution_count": 11,
   "metadata": {
    "colab": {},
    "colab_type": "code",
    "id": "mzFeAHmUqYYi"
   },
   "outputs": [],
   "source": [
    "testset_reordered.to_csv(\"testset_reordered.csv\", index = False) #For ALS algo"
   ]
  },
  {
   "cell_type": "markdown",
   "metadata": {
    "colab_type": "text",
    "id": "PUhqEkRB0Kdp"
   },
   "source": [
    "# Train Algorithms"
   ]
  },
  {
   "cell_type": "markdown",
   "metadata": {
    "colab_type": "text",
    "id": "o5bszYIo0Pus"
   },
   "source": [
    "## SVD"
   ]
  },
  {
   "cell_type": "code",
   "execution_count": 0,
   "metadata": {
    "colab": {
     "base_uri": "https://localhost:8080/",
     "height": 1000
    },
    "colab_type": "code",
    "executionInfo": {
     "elapsed": 3128983,
     "status": "ok",
     "timestamp": 1576412521813,
     "user": {
      "displayName": "Valentin Garnier",
      "photoUrl": "https://lh3.googleusercontent.com/a-/AAuE7mB7QGXgO4SjxTppzWKwvSYrbcCpHaVHwXah3Jd7=s64",
      "userId": "05650069634095051258"
     },
     "user_tz": -60
    },
    "id": "sWNiWEv20v8J",
    "outputId": "5933c19e-5a3f-4bb5-c060-7ed988367958"
   },
   "outputs": [
    {
     "name": "stdout",
     "output_type": "stream",
     "text": [
      "Processing epoch 0\n",
      "Processing epoch 1\n",
      "Processing epoch 2\n",
      "Processing epoch 3\n",
      "Processing epoch 4\n",
      "Processing epoch 5\n",
      "Processing epoch 6\n",
      "Processing epoch 7\n",
      "Processing epoch 8\n",
      "Processing epoch 9\n",
      "Processing epoch 10\n",
      "Processing epoch 11\n",
      "Processing epoch 12\n",
      "Processing epoch 13\n",
      "Processing epoch 14\n",
      "Processing epoch 15\n",
      "Processing epoch 16\n",
      "Processing epoch 17\n",
      "Processing epoch 18\n",
      "Processing epoch 19\n",
      "Processing epoch 20\n",
      "Processing epoch 21\n",
      "Processing epoch 22\n",
      "Processing epoch 23\n",
      "Processing epoch 24\n",
      "Processing epoch 25\n",
      "Processing epoch 26\n",
      "Processing epoch 27\n",
      "Processing epoch 28\n",
      "Processing epoch 29\n",
      "Processing epoch 30\n",
      "Processing epoch 31\n",
      "Processing epoch 32\n",
      "Processing epoch 33\n",
      "Processing epoch 34\n",
      "Processing epoch 35\n",
      "Processing epoch 36\n",
      "Processing epoch 37\n",
      "Processing epoch 38\n",
      "Processing epoch 39\n",
      "Processing epoch 40\n",
      "Processing epoch 41\n",
      "Processing epoch 42\n",
      "Processing epoch 43\n",
      "Processing epoch 44\n",
      "Processing epoch 45\n",
      "Processing epoch 46\n",
      "Processing epoch 47\n",
      "Processing epoch 48\n",
      "Processing epoch 49\n",
      "Processing epoch 50\n",
      "Processing epoch 51\n",
      "Processing epoch 52\n",
      "Processing epoch 53\n",
      "Processing epoch 54\n",
      "Processing epoch 55\n",
      "Processing epoch 56\n",
      "Processing epoch 57\n",
      "Processing epoch 58\n",
      "Processing epoch 59\n",
      "Processing epoch 60\n",
      "Processing epoch 61\n",
      "Processing epoch 62\n",
      "Processing epoch 63\n",
      "Processing epoch 64\n",
      "Processing epoch 65\n",
      "Processing epoch 66\n",
      "Processing epoch 67\n",
      "Processing epoch 68\n",
      "Processing epoch 69\n",
      "Processing epoch 70\n",
      "Processing epoch 71\n",
      "Processing epoch 72\n",
      "Processing epoch 73\n",
      "Processing epoch 74\n",
      "Processing epoch 75\n",
      "Processing epoch 76\n",
      "Processing epoch 77\n",
      "Processing epoch 78\n",
      "Processing epoch 79\n",
      "Processing epoch 80\n",
      "Processing epoch 81\n",
      "Processing epoch 82\n",
      "Processing epoch 83\n",
      "Processing epoch 84\n",
      "Processing epoch 85\n",
      "Processing epoch 86\n",
      "Processing epoch 87\n",
      "Processing epoch 88\n",
      "Processing epoch 89\n",
      "Processing epoch 90\n",
      "Processing epoch 91\n",
      "Processing epoch 92\n",
      "Processing epoch 93\n",
      "Processing epoch 94\n",
      "Processing epoch 95\n",
      "Processing epoch 96\n",
      "Processing epoch 97\n",
      "Processing epoch 98\n",
      "Processing epoch 99\n",
      "Processing epoch 100\n",
      "Processing epoch 101\n",
      "Processing epoch 102\n",
      "Processing epoch 103\n",
      "Processing epoch 104\n",
      "Processing epoch 105\n",
      "Processing epoch 106\n",
      "Processing epoch 107\n",
      "Processing epoch 108\n",
      "Processing epoch 109\n",
      "Processing epoch 110\n",
      "Processing epoch 111\n",
      "Processing epoch 112\n",
      "Processing epoch 113\n",
      "Processing epoch 114\n",
      "Processing epoch 115\n",
      "Processing epoch 116\n",
      "Processing epoch 117\n",
      "Processing epoch 118\n",
      "Processing epoch 119\n",
      "Processing epoch 120\n",
      "Processing epoch 121\n",
      "Processing epoch 122\n",
      "Processing epoch 123\n",
      "Processing epoch 124\n",
      "Processing epoch 125\n",
      "Processing epoch 126\n",
      "Processing epoch 127\n",
      "Processing epoch 128\n",
      "Processing epoch 129\n",
      "Processing epoch 130\n",
      "Processing epoch 131\n",
      "Processing epoch 132\n",
      "Processing epoch 133\n",
      "Processing epoch 134\n",
      "Processing epoch 135\n",
      "Processing epoch 136\n",
      "Processing epoch 137\n",
      "Processing epoch 138\n",
      "Processing epoch 139\n",
      "Processing epoch 140\n",
      "Processing epoch 141\n",
      "Processing epoch 142\n",
      "Processing epoch 143\n",
      "Processing epoch 144\n",
      "Processing epoch 145\n",
      "Processing epoch 146\n",
      "Processing epoch 147\n",
      "Processing epoch 148\n",
      "Processing epoch 149\n",
      "Processing epoch 150\n",
      "Processing epoch 151\n",
      "Processing epoch 152\n",
      "Processing epoch 153\n",
      "Processing epoch 154\n",
      "Processing epoch 155\n",
      "Processing epoch 156\n",
      "Processing epoch 157\n",
      "Processing epoch 158\n",
      "Processing epoch 159\n",
      "Processing epoch 160\n",
      "Processing epoch 161\n",
      "Processing epoch 162\n",
      "Processing epoch 163\n",
      "Processing epoch 164\n",
      "Processing epoch 165\n",
      "Processing epoch 166\n",
      "Processing epoch 167\n",
      "Processing epoch 168\n",
      "Processing epoch 169\n",
      "Processing epoch 170\n",
      "Processing epoch 171\n",
      "Processing epoch 172\n",
      "Processing epoch 173\n",
      "Processing epoch 174\n",
      "Processing epoch 175\n",
      "Processing epoch 176\n",
      "Processing epoch 177\n",
      "Processing epoch 178\n",
      "Processing epoch 179\n",
      "Processing epoch 180\n",
      "Processing epoch 181\n",
      "Processing epoch 182\n",
      "Processing epoch 183\n",
      "Processing epoch 184\n",
      "Processing epoch 185\n",
      "Processing epoch 186\n",
      "Processing epoch 187\n",
      "Processing epoch 188\n",
      "Processing epoch 189\n",
      "Processing epoch 190\n",
      "Processing epoch 191\n",
      "Processing epoch 192\n",
      "Processing epoch 193\n",
      "Processing epoch 194\n",
      "Processing epoch 195\n",
      "Processing epoch 196\n",
      "Processing epoch 197\n",
      "Processing epoch 198\n",
      "Processing epoch 199\n",
      "Processing epoch 200\n",
      "Processing epoch 201\n",
      "Processing epoch 202\n",
      "Processing epoch 203\n",
      "Processing epoch 204\n",
      "Processing epoch 205\n",
      "Processing epoch 206\n",
      "Processing epoch 207\n",
      "Processing epoch 208\n",
      "Processing epoch 209\n",
      "Processing epoch 210\n",
      "Processing epoch 211\n",
      "Processing epoch 212\n",
      "Processing epoch 213\n",
      "Processing epoch 214\n",
      "Processing epoch 215\n",
      "Processing epoch 216\n",
      "Processing epoch 217\n",
      "Processing epoch 218\n",
      "Processing epoch 219\n",
      "Processing epoch 220\n",
      "Processing epoch 221\n",
      "Processing epoch 222\n",
      "Processing epoch 223\n",
      "Processing epoch 224\n",
      "Processing epoch 225\n",
      "Processing epoch 226\n",
      "Processing epoch 227\n",
      "Processing epoch 228\n",
      "Processing epoch 229\n",
      "Processing epoch 230\n",
      "Processing epoch 231\n",
      "Processing epoch 232\n",
      "Processing epoch 233\n",
      "Processing epoch 234\n",
      "Processing epoch 235\n",
      "Processing epoch 236\n",
      "Processing epoch 237\n",
      "Processing epoch 238\n",
      "Processing epoch 239\n",
      "Processing epoch 240\n",
      "Processing epoch 241\n",
      "Processing epoch 242\n",
      "Processing epoch 243\n",
      "Processing epoch 244\n",
      "Processing epoch 245\n",
      "Processing epoch 246\n",
      "Processing epoch 247\n",
      "Processing epoch 248\n",
      "Processing epoch 249\n",
      "Processing epoch 250\n",
      "Processing epoch 251\n",
      "Processing epoch 252\n",
      "Processing epoch 253\n",
      "Processing epoch 254\n",
      "Processing epoch 255\n",
      "Processing epoch 256\n",
      "Processing epoch 257\n",
      "Processing epoch 258\n",
      "Processing epoch 259\n",
      "Processing epoch 260\n",
      "Processing epoch 261\n",
      "Processing epoch 262\n",
      "Processing epoch 263\n",
      "Processing epoch 264\n",
      "Processing epoch 265\n",
      "Processing epoch 266\n",
      "Processing epoch 267\n",
      "Processing epoch 268\n",
      "Processing epoch 269\n",
      "Processing epoch 270\n",
      "Processing epoch 271\n",
      "Processing epoch 272\n",
      "Processing epoch 273\n",
      "Processing epoch 274\n",
      "Processing epoch 275\n",
      "Processing epoch 276\n",
      "Processing epoch 277\n",
      "Processing epoch 278\n",
      "Processing epoch 279\n",
      "Processing epoch 280\n",
      "Processing epoch 281\n",
      "Processing epoch 282\n",
      "Processing epoch 283\n",
      "Processing epoch 284\n",
      "Processing epoch 285\n",
      "Processing epoch 286\n",
      "Processing epoch 287\n",
      "Processing epoch 288\n",
      "Processing epoch 289\n",
      "Processing epoch 290\n",
      "Processing epoch 291\n",
      "Processing epoch 292\n",
      "Processing epoch 293\n",
      "Processing epoch 294\n",
      "Processing epoch 295\n",
      "Processing epoch 296\n",
      "Processing epoch 297\n",
      "Processing epoch 298\n",
      "Processing epoch 299\n",
      "Processing epoch 300\n",
      "Processing epoch 301\n",
      "Processing epoch 302\n",
      "Processing epoch 303\n",
      "Processing epoch 304\n",
      "Processing epoch 305\n",
      "Processing epoch 306\n",
      "Processing epoch 307\n",
      "Processing epoch 308\n",
      "Processing epoch 309\n",
      "Processing epoch 310\n",
      "Processing epoch 311\n",
      "Processing epoch 312\n",
      "Processing epoch 313\n",
      "Processing epoch 314\n",
      "Processing epoch 315\n",
      "Processing epoch 316\n",
      "Processing epoch 317\n",
      "Processing epoch 318\n",
      "Processing epoch 319\n",
      "Processing epoch 320\n",
      "Processing epoch 321\n",
      "Processing epoch 322\n",
      "Processing epoch 323\n",
      "Processing epoch 324\n",
      "Processing epoch 325\n",
      "Processing epoch 326\n",
      "Processing epoch 327\n",
      "Processing epoch 328\n",
      "Processing epoch 329\n",
      "Processing epoch 330\n",
      "Processing epoch 331\n",
      "Processing epoch 332\n",
      "Processing epoch 333\n",
      "Processing epoch 334\n",
      "Processing epoch 335\n",
      "Processing epoch 336\n",
      "Processing epoch 337\n",
      "Processing epoch 338\n",
      "Processing epoch 339\n",
      "Processing epoch 340\n",
      "Processing epoch 341\n",
      "Processing epoch 342\n",
      "Processing epoch 343\n",
      "Processing epoch 344\n",
      "Processing epoch 345\n",
      "Processing epoch 346\n",
      "Processing epoch 347\n",
      "Processing epoch 348\n",
      "Processing epoch 349\n",
      "Processing epoch 350\n",
      "Processing epoch 351\n",
      "Processing epoch 352\n",
      "Processing epoch 353\n",
      "Processing epoch 354\n",
      "Processing epoch 355\n",
      "Processing epoch 356\n",
      "Processing epoch 357\n",
      "Processing epoch 358\n",
      "Processing epoch 359\n",
      "Processing epoch 360\n",
      "Processing epoch 361\n",
      "Processing epoch 362\n",
      "Processing epoch 363\n",
      "Processing epoch 364\n",
      "Processing epoch 365\n",
      "Processing epoch 366\n",
      "Processing epoch 367\n",
      "Processing epoch 368\n",
      "Processing epoch 369\n",
      "Processing epoch 370\n",
      "Processing epoch 371\n",
      "Processing epoch 372\n",
      "Processing epoch 373\n",
      "Processing epoch 374\n",
      "Processing epoch 375\n",
      "Processing epoch 376\n",
      "Processing epoch 377\n",
      "Processing epoch 378\n",
      "Processing epoch 379\n",
      "Processing epoch 380\n",
      "Processing epoch 381\n",
      "Processing epoch 382\n",
      "Processing epoch 383\n",
      "Processing epoch 384\n",
      "Processing epoch 385\n",
      "Processing epoch 386\n",
      "Processing epoch 387\n",
      "Processing epoch 388\n",
      "Processing epoch 389\n",
      "Processing epoch 390\n",
      "Processing epoch 391\n",
      "Processing epoch 392\n",
      "Processing epoch 393\n",
      "Processing epoch 394\n",
      "Processing epoch 395\n",
      "Processing epoch 396\n",
      "Processing epoch 397\n",
      "Processing epoch 398\n",
      "Processing epoch 399\n",
      "Processing epoch 400\n",
      "Processing epoch 401\n",
      "Processing epoch 402\n",
      "Processing epoch 403\n",
      "Processing epoch 404\n",
      "Processing epoch 405\n",
      "Processing epoch 406\n",
      "Processing epoch 407\n",
      "Processing epoch 408\n",
      "Processing epoch 409\n",
      "Processing epoch 410\n",
      "Processing epoch 411\n",
      "Processing epoch 412\n",
      "Processing epoch 413\n",
      "Processing epoch 414\n",
      "Processing epoch 415\n",
      "Processing epoch 416\n",
      "Processing epoch 417\n",
      "Processing epoch 418\n",
      "Processing epoch 419\n",
      "Processing epoch 420\n",
      "Processing epoch 421\n",
      "Processing epoch 422\n",
      "Processing epoch 423\n",
      "Processing epoch 424\n",
      "Processing epoch 425\n",
      "Processing epoch 426\n",
      "Processing epoch 427\n",
      "Processing epoch 428\n",
      "Processing epoch 429\n",
      "Processing epoch 430\n",
      "Processing epoch 431\n",
      "Processing epoch 432\n",
      "Processing epoch 433\n",
      "Processing epoch 434\n",
      "Processing epoch 435\n",
      "Processing epoch 436\n",
      "Processing epoch 437\n",
      "Processing epoch 438\n",
      "Processing epoch 439\n",
      "Processing epoch 440\n",
      "Processing epoch 441\n",
      "Processing epoch 442\n",
      "Processing epoch 443\n",
      "Processing epoch 444\n",
      "Processing epoch 445\n",
      "Processing epoch 446\n",
      "Processing epoch 447\n",
      "Processing epoch 448\n",
      "Processing epoch 449\n",
      "Processing epoch 450\n",
      "Processing epoch 451\n",
      "Processing epoch 452\n",
      "Processing epoch 453\n",
      "Processing epoch 454\n",
      "Processing epoch 455\n",
      "Processing epoch 456\n",
      "Processing epoch 457\n",
      "Processing epoch 458\n",
      "Processing epoch 459\n",
      "Processing epoch 460\n",
      "Processing epoch 461\n",
      "Processing epoch 462\n",
      "Processing epoch 463\n",
      "Processing epoch 464\n",
      "Processing epoch 465\n",
      "Processing epoch 466\n",
      "Processing epoch 467\n",
      "Processing epoch 468\n",
      "Processing epoch 469\n",
      "Processing epoch 470\n",
      "Processing epoch 471\n",
      "Processing epoch 472\n",
      "Processing epoch 473\n",
      "Processing epoch 474\n",
      "Processing epoch 475\n",
      "Processing epoch 476\n",
      "Processing epoch 477\n",
      "Processing epoch 478\n",
      "Processing epoch 479\n",
      "Processing epoch 480\n",
      "Processing epoch 481\n",
      "Processing epoch 482\n",
      "Processing epoch 483\n",
      "Processing epoch 484\n",
      "Processing epoch 485\n",
      "Processing epoch 486\n",
      "Processing epoch 487\n",
      "Processing epoch 488\n",
      "Processing epoch 489\n",
      "Processing epoch 490\n",
      "Processing epoch 491\n",
      "Processing epoch 492\n",
      "Processing epoch 493\n",
      "Processing epoch 494\n",
      "Processing epoch 495\n",
      "Processing epoch 496\n",
      "Processing epoch 497\n",
      "Processing epoch 498\n",
      "Processing epoch 499\n"
     ]
    }
   ],
   "source": [
    "#SVD with baselines\n",
    "\n",
    "algo = SVD()\n",
    "algo.n_factors = 1\n",
    "algo.verbose = True\n",
    "algo.biased = True\n",
    "algo.reg_all = 0.01\n",
    "algo.lr_all = 0.01\n",
    "algo.n_epochs = 500\n",
    "algo.random_state = seed\n",
    "\n",
    "algo.fit(trainset)\n",
    "\n",
    "test_predictions_svd = algo.test(testset) #Get real predictions to append to big final matrix"
   ]
  },
  {
   "cell_type": "code",
   "execution_count": 0,
   "metadata": {
    "colab": {},
    "colab_type": "code",
    "id": "usJNB-VM2cor"
   },
   "outputs": [],
   "source": [
    "test_predictions_svd = np.asarray(test_predictions_svd)\n",
    "test_predictions_svd_filtered = test_predictions_svd[:, 3]"
   ]
  },
  {
   "cell_type": "markdown",
   "metadata": {
    "colab_type": "text",
    "id": "wHmk2vfDQicZ"
   },
   "source": [
    "## SVD Without Baselines"
   ]
  },
  {
   "cell_type": "code",
   "execution_count": 0,
   "metadata": {
    "colab": {
     "base_uri": "https://localhost:8080/",
     "height": 1000
    },
    "colab_type": "code",
    "executionInfo": {
     "elapsed": 487120,
     "status": "ok",
     "timestamp": 1576413118786,
     "user": {
      "displayName": "Valentin Garnier",
      "photoUrl": "https://lh3.googleusercontent.com/a-/AAuE7mB7QGXgO4SjxTppzWKwvSYrbcCpHaVHwXah3Jd7=s64",
      "userId": "05650069634095051258"
     },
     "user_tz": -60
    },
    "id": "i2YEDS2HQlJY",
    "outputId": "b57c2253-673b-4ccd-f492-a770871a21e6"
   },
   "outputs": [
    {
     "name": "stdout",
     "output_type": "stream",
     "text": [
      "Processing epoch 0\n",
      "Processing epoch 1\n",
      "Processing epoch 2\n",
      "Processing epoch 3\n",
      "Processing epoch 4\n",
      "Processing epoch 5\n",
      "Processing epoch 6\n",
      "Processing epoch 7\n",
      "Processing epoch 8\n",
      "Processing epoch 9\n",
      "Processing epoch 10\n",
      "Processing epoch 11\n",
      "Processing epoch 12\n",
      "Processing epoch 13\n",
      "Processing epoch 14\n",
      "Processing epoch 15\n",
      "Processing epoch 16\n",
      "Processing epoch 17\n",
      "Processing epoch 18\n",
      "Processing epoch 19\n",
      "Processing epoch 20\n",
      "Processing epoch 21\n",
      "Processing epoch 22\n",
      "Processing epoch 23\n",
      "Processing epoch 24\n",
      "Processing epoch 25\n",
      "Processing epoch 26\n",
      "Processing epoch 27\n",
      "Processing epoch 28\n",
      "Processing epoch 29\n",
      "Processing epoch 30\n",
      "Processing epoch 31\n",
      "Processing epoch 32\n",
      "Processing epoch 33\n",
      "Processing epoch 34\n",
      "Processing epoch 35\n",
      "Processing epoch 36\n",
      "Processing epoch 37\n",
      "Processing epoch 38\n",
      "Processing epoch 39\n",
      "Processing epoch 40\n",
      "Processing epoch 41\n",
      "Processing epoch 42\n",
      "Processing epoch 43\n",
      "Processing epoch 44\n",
      "Processing epoch 45\n",
      "Processing epoch 46\n",
      "Processing epoch 47\n",
      "Processing epoch 48\n",
      "Processing epoch 49\n",
      "Processing epoch 50\n",
      "Processing epoch 51\n",
      "Processing epoch 52\n",
      "Processing epoch 53\n",
      "Processing epoch 54\n",
      "Processing epoch 55\n",
      "Processing epoch 56\n",
      "Processing epoch 57\n",
      "Processing epoch 58\n",
      "Processing epoch 59\n",
      "Processing epoch 60\n",
      "Processing epoch 61\n",
      "Processing epoch 62\n",
      "Processing epoch 63\n",
      "Processing epoch 64\n",
      "Processing epoch 65\n",
      "Processing epoch 66\n",
      "Processing epoch 67\n",
      "Processing epoch 68\n",
      "Processing epoch 69\n",
      "Processing epoch 70\n",
      "Processing epoch 71\n",
      "Processing epoch 72\n",
      "Processing epoch 73\n",
      "Processing epoch 74\n",
      "Processing epoch 75\n",
      "Processing epoch 76\n",
      "Processing epoch 77\n",
      "Processing epoch 78\n",
      "Processing epoch 79\n",
      "Processing epoch 80\n",
      "Processing epoch 81\n",
      "Processing epoch 82\n",
      "Processing epoch 83\n",
      "Processing epoch 84\n",
      "Processing epoch 85\n",
      "Processing epoch 86\n",
      "Processing epoch 87\n",
      "Processing epoch 88\n",
      "Processing epoch 89\n",
      "Processing epoch 90\n",
      "Processing epoch 91\n",
      "Processing epoch 92\n",
      "Processing epoch 93\n",
      "Processing epoch 94\n",
      "Processing epoch 95\n",
      "Processing epoch 96\n",
      "Processing epoch 97\n",
      "Processing epoch 98\n",
      "Processing epoch 99\n",
      "Processing epoch 100\n",
      "Processing epoch 101\n",
      "Processing epoch 102\n",
      "Processing epoch 103\n",
      "Processing epoch 104\n",
      "Processing epoch 105\n",
      "Processing epoch 106\n",
      "Processing epoch 107\n",
      "Processing epoch 108\n",
      "Processing epoch 109\n",
      "Processing epoch 110\n",
      "Processing epoch 111\n",
      "Processing epoch 112\n",
      "Processing epoch 113\n",
      "Processing epoch 114\n",
      "Processing epoch 115\n",
      "Processing epoch 116\n",
      "Processing epoch 117\n",
      "Processing epoch 118\n",
      "Processing epoch 119\n",
      "Processing epoch 120\n",
      "Processing epoch 121\n",
      "Processing epoch 122\n",
      "Processing epoch 123\n",
      "Processing epoch 124\n",
      "Processing epoch 125\n",
      "Processing epoch 126\n",
      "Processing epoch 127\n",
      "Processing epoch 128\n",
      "Processing epoch 129\n",
      "Processing epoch 130\n",
      "Processing epoch 131\n",
      "Processing epoch 132\n",
      "Processing epoch 133\n",
      "Processing epoch 134\n",
      "Processing epoch 135\n",
      "Processing epoch 136\n",
      "Processing epoch 137\n",
      "Processing epoch 138\n",
      "Processing epoch 139\n",
      "Processing epoch 140\n",
      "Processing epoch 141\n",
      "Processing epoch 142\n",
      "Processing epoch 143\n",
      "Processing epoch 144\n",
      "Processing epoch 145\n",
      "Processing epoch 146\n",
      "Processing epoch 147\n",
      "Processing epoch 148\n",
      "Processing epoch 149\n",
      "Processing epoch 150\n",
      "Processing epoch 151\n",
      "Processing epoch 152\n",
      "Processing epoch 153\n",
      "Processing epoch 154\n",
      "Processing epoch 155\n",
      "Processing epoch 156\n",
      "Processing epoch 157\n",
      "Processing epoch 158\n",
      "Processing epoch 159\n",
      "Processing epoch 160\n",
      "Processing epoch 161\n",
      "Processing epoch 162\n",
      "Processing epoch 163\n",
      "Processing epoch 164\n",
      "Processing epoch 165\n",
      "Processing epoch 166\n",
      "Processing epoch 167\n",
      "Processing epoch 168\n",
      "Processing epoch 169\n",
      "Processing epoch 170\n",
      "Processing epoch 171\n",
      "Processing epoch 172\n",
      "Processing epoch 173\n",
      "Processing epoch 174\n",
      "Processing epoch 175\n",
      "Processing epoch 176\n",
      "Processing epoch 177\n",
      "Processing epoch 178\n",
      "Processing epoch 179\n",
      "Processing epoch 180\n",
      "Processing epoch 181\n",
      "Processing epoch 182\n",
      "Processing epoch 183\n",
      "Processing epoch 184\n",
      "Processing epoch 185\n",
      "Processing epoch 186\n",
      "Processing epoch 187\n",
      "Processing epoch 188\n",
      "Processing epoch 189\n",
      "Processing epoch 190\n",
      "Processing epoch 191\n",
      "Processing epoch 192\n",
      "Processing epoch 193\n",
      "Processing epoch 194\n",
      "Processing epoch 195\n",
      "Processing epoch 196\n",
      "Processing epoch 197\n",
      "Processing epoch 198\n",
      "Processing epoch 199\n",
      "Processing epoch 200\n",
      "Processing epoch 201\n",
      "Processing epoch 202\n",
      "Processing epoch 203\n",
      "Processing epoch 204\n",
      "Processing epoch 205\n",
      "Processing epoch 206\n",
      "Processing epoch 207\n",
      "Processing epoch 208\n",
      "Processing epoch 209\n",
      "Processing epoch 210\n",
      "Processing epoch 211\n",
      "Processing epoch 212\n",
      "Processing epoch 213\n",
      "Processing epoch 214\n",
      "Processing epoch 215\n",
      "Processing epoch 216\n",
      "Processing epoch 217\n",
      "Processing epoch 218\n",
      "Processing epoch 219\n",
      "Processing epoch 220\n",
      "Processing epoch 221\n",
      "Processing epoch 222\n",
      "Processing epoch 223\n",
      "Processing epoch 224\n",
      "Processing epoch 225\n",
      "Processing epoch 226\n",
      "Processing epoch 227\n",
      "Processing epoch 228\n",
      "Processing epoch 229\n",
      "Processing epoch 230\n",
      "Processing epoch 231\n",
      "Processing epoch 232\n",
      "Processing epoch 233\n",
      "Processing epoch 234\n",
      "Processing epoch 235\n",
      "Processing epoch 236\n",
      "Processing epoch 237\n",
      "Processing epoch 238\n",
      "Processing epoch 239\n",
      "Processing epoch 240\n",
      "Processing epoch 241\n",
      "Processing epoch 242\n",
      "Processing epoch 243\n",
      "Processing epoch 244\n",
      "Processing epoch 245\n",
      "Processing epoch 246\n",
      "Processing epoch 247\n",
      "Processing epoch 248\n",
      "Processing epoch 249\n",
      "Processing epoch 250\n",
      "Processing epoch 251\n",
      "Processing epoch 252\n",
      "Processing epoch 253\n",
      "Processing epoch 254\n",
      "Processing epoch 255\n",
      "Processing epoch 256\n",
      "Processing epoch 257\n",
      "Processing epoch 258\n",
      "Processing epoch 259\n",
      "Processing epoch 260\n",
      "Processing epoch 261\n",
      "Processing epoch 262\n",
      "Processing epoch 263\n",
      "Processing epoch 264\n",
      "Processing epoch 265\n",
      "Processing epoch 266\n",
      "Processing epoch 267\n",
      "Processing epoch 268\n",
      "Processing epoch 269\n",
      "Processing epoch 270\n",
      "Processing epoch 271\n",
      "Processing epoch 272\n",
      "Processing epoch 273\n",
      "Processing epoch 274\n",
      "Processing epoch 275\n",
      "Processing epoch 276\n",
      "Processing epoch 277\n",
      "Processing epoch 278\n",
      "Processing epoch 279\n",
      "Processing epoch 280\n",
      "Processing epoch 281\n",
      "Processing epoch 282\n",
      "Processing epoch 283\n",
      "Processing epoch 284\n",
      "Processing epoch 285\n",
      "Processing epoch 286\n",
      "Processing epoch 287\n",
      "Processing epoch 288\n",
      "Processing epoch 289\n",
      "Processing epoch 290\n",
      "Processing epoch 291\n",
      "Processing epoch 292\n",
      "Processing epoch 293\n",
      "Processing epoch 294\n",
      "Processing epoch 295\n",
      "Processing epoch 296\n",
      "Processing epoch 297\n",
      "Processing epoch 298\n",
      "Processing epoch 299\n",
      "Processing epoch 300\n",
      "Processing epoch 301\n",
      "Processing epoch 302\n",
      "Processing epoch 303\n",
      "Processing epoch 304\n",
      "Processing epoch 305\n",
      "Processing epoch 306\n",
      "Processing epoch 307\n",
      "Processing epoch 308\n",
      "Processing epoch 309\n",
      "Processing epoch 310\n",
      "Processing epoch 311\n",
      "Processing epoch 312\n",
      "Processing epoch 313\n",
      "Processing epoch 314\n",
      "Processing epoch 315\n",
      "Processing epoch 316\n",
      "Processing epoch 317\n",
      "Processing epoch 318\n",
      "Processing epoch 319\n",
      "Processing epoch 320\n",
      "Processing epoch 321\n",
      "Processing epoch 322\n",
      "Processing epoch 323\n",
      "Processing epoch 324\n",
      "Processing epoch 325\n",
      "Processing epoch 326\n",
      "Processing epoch 327\n",
      "Processing epoch 328\n",
      "Processing epoch 329\n",
      "Processing epoch 330\n",
      "Processing epoch 331\n",
      "Processing epoch 332\n",
      "Processing epoch 333\n",
      "Processing epoch 334\n",
      "Processing epoch 335\n",
      "Processing epoch 336\n",
      "Processing epoch 337\n",
      "Processing epoch 338\n",
      "Processing epoch 339\n",
      "Processing epoch 340\n",
      "Processing epoch 341\n",
      "Processing epoch 342\n",
      "Processing epoch 343\n",
      "Processing epoch 344\n",
      "Processing epoch 345\n",
      "Processing epoch 346\n",
      "Processing epoch 347\n",
      "Processing epoch 348\n",
      "Processing epoch 349\n",
      "Processing epoch 350\n",
      "Processing epoch 351\n",
      "Processing epoch 352\n",
      "Processing epoch 353\n",
      "Processing epoch 354\n",
      "Processing epoch 355\n",
      "Processing epoch 356\n",
      "Processing epoch 357\n",
      "Processing epoch 358\n",
      "Processing epoch 359\n",
      "Processing epoch 360\n",
      "Processing epoch 361\n",
      "Processing epoch 362\n",
      "Processing epoch 363\n",
      "Processing epoch 364\n",
      "Processing epoch 365\n",
      "Processing epoch 366\n",
      "Processing epoch 367\n",
      "Processing epoch 368\n",
      "Processing epoch 369\n",
      "Processing epoch 370\n",
      "Processing epoch 371\n",
      "Processing epoch 372\n",
      "Processing epoch 373\n",
      "Processing epoch 374\n",
      "Processing epoch 375\n",
      "Processing epoch 376\n",
      "Processing epoch 377\n",
      "Processing epoch 378\n",
      "Processing epoch 379\n",
      "Processing epoch 380\n",
      "Processing epoch 381\n",
      "Processing epoch 382\n",
      "Processing epoch 383\n",
      "Processing epoch 384\n",
      "Processing epoch 385\n",
      "Processing epoch 386\n",
      "Processing epoch 387\n",
      "Processing epoch 388\n",
      "Processing epoch 389\n",
      "Processing epoch 390\n",
      "Processing epoch 391\n",
      "Processing epoch 392\n",
      "Processing epoch 393\n",
      "Processing epoch 394\n",
      "Processing epoch 395\n",
      "Processing epoch 396\n",
      "Processing epoch 397\n",
      "Processing epoch 398\n",
      "Processing epoch 399\n",
      "Processing epoch 400\n",
      "Processing epoch 401\n",
      "Processing epoch 402\n",
      "Processing epoch 403\n",
      "Processing epoch 404\n",
      "Processing epoch 405\n",
      "Processing epoch 406\n",
      "Processing epoch 407\n",
      "Processing epoch 408\n",
      "Processing epoch 409\n",
      "Processing epoch 410\n",
      "Processing epoch 411\n",
      "Processing epoch 412\n",
      "Processing epoch 413\n",
      "Processing epoch 414\n",
      "Processing epoch 415\n",
      "Processing epoch 416\n",
      "Processing epoch 417\n",
      "Processing epoch 418\n",
      "Processing epoch 419\n",
      "Processing epoch 420\n",
      "Processing epoch 421\n",
      "Processing epoch 422\n",
      "Processing epoch 423\n",
      "Processing epoch 424\n",
      "Processing epoch 425\n",
      "Processing epoch 426\n",
      "Processing epoch 427\n",
      "Processing epoch 428\n",
      "Processing epoch 429\n",
      "Processing epoch 430\n",
      "Processing epoch 431\n",
      "Processing epoch 432\n",
      "Processing epoch 433\n",
      "Processing epoch 434\n",
      "Processing epoch 435\n",
      "Processing epoch 436\n",
      "Processing epoch 437\n",
      "Processing epoch 438\n",
      "Processing epoch 439\n",
      "Processing epoch 440\n",
      "Processing epoch 441\n",
      "Processing epoch 442\n",
      "Processing epoch 443\n",
      "Processing epoch 444\n",
      "Processing epoch 445\n",
      "Processing epoch 446\n",
      "Processing epoch 447\n",
      "Processing epoch 448\n",
      "Processing epoch 449\n",
      "Processing epoch 450\n",
      "Processing epoch 451\n",
      "Processing epoch 452\n",
      "Processing epoch 453\n",
      "Processing epoch 454\n",
      "Processing epoch 455\n",
      "Processing epoch 456\n",
      "Processing epoch 457\n",
      "Processing epoch 458\n",
      "Processing epoch 459\n",
      "Processing epoch 460\n",
      "Processing epoch 461\n",
      "Processing epoch 462\n",
      "Processing epoch 463\n",
      "Processing epoch 464\n",
      "Processing epoch 465\n",
      "Processing epoch 466\n",
      "Processing epoch 467\n",
      "Processing epoch 468\n",
      "Processing epoch 469\n",
      "Processing epoch 470\n",
      "Processing epoch 471\n",
      "Processing epoch 472\n",
      "Processing epoch 473\n",
      "Processing epoch 474\n",
      "Processing epoch 475\n",
      "Processing epoch 476\n",
      "Processing epoch 477\n",
      "Processing epoch 478\n",
      "Processing epoch 479\n",
      "Processing epoch 480\n",
      "Processing epoch 481\n",
      "Processing epoch 482\n",
      "Processing epoch 483\n",
      "Processing epoch 484\n",
      "Processing epoch 485\n",
      "Processing epoch 486\n",
      "Processing epoch 487\n",
      "Processing epoch 488\n",
      "Processing epoch 489\n",
      "Processing epoch 490\n",
      "Processing epoch 491\n",
      "Processing epoch 492\n",
      "Processing epoch 493\n",
      "Processing epoch 494\n",
      "Processing epoch 495\n",
      "Processing epoch 496\n",
      "Processing epoch 497\n",
      "Processing epoch 498\n",
      "Processing epoch 499\n"
     ]
    }
   ],
   "source": [
    "#SVD without baselines\n",
    "\n",
    "algo = SVD()\n",
    "algo.n_factors = 1\n",
    "algo.verbose = True\n",
    "algo.biased = False\n",
    "algo.reg_all = 0.001 # from gridsearch in other notebook\n",
    "algo.lr_all = 0.01\n",
    "algo.n_epochs = 500\n",
    "algo.random_state = seed\n",
    "\n",
    "algo.fit(trainset)\n",
    "\n",
    "test_predictions_svd_noB = algo.test(testset) #Get real predictions to append to big final matrix"
   ]
  },
  {
   "cell_type": "code",
   "execution_count": 0,
   "metadata": {
    "colab": {},
    "colab_type": "code",
    "id": "gg6rytmlQldO"
   },
   "outputs": [],
   "source": [
    "test_predictions_svd_noB = np.asarray(test_predictions_svd_noB)\n",
    "test_predictions_svd_noB_filtered = test_predictions_svd_noB[:, 3]"
   ]
  },
  {
   "cell_type": "markdown",
   "metadata": {
    "colab_type": "text",
    "id": "iqjT35rhlFIB"
   },
   "source": [
    "## SVD++"
   ]
  },
  {
   "cell_type": "code",
   "execution_count": 0,
   "metadata": {
    "colab": {
     "base_uri": "https://localhost:8080/",
     "height": 867
    },
    "colab_type": "code",
    "executionInfo": {
     "elapsed": 3395840,
     "status": "ok",
     "timestamp": 1576409179514,
     "user": {
      "displayName": "Valentin Garnier",
      "photoUrl": "https://lh3.googleusercontent.com/a-/AAuE7mB7QGXgO4SjxTppzWKwvSYrbcCpHaVHwXah3Jd7=s64",
      "userId": "05650069634095051258"
     },
     "user_tz": -60
    },
    "id": "-R0TdPXQlHE_",
    "outputId": "d85dfef4-2337-46de-bf28-e180e16ad933"
   },
   "outputs": [
    {
     "name": "stdout",
     "output_type": "stream",
     "text": [
      " processing epoch 0\n",
      " processing epoch 1\n",
      " processing epoch 2\n",
      " processing epoch 3\n",
      " processing epoch 4\n",
      " processing epoch 5\n",
      " processing epoch 6\n",
      " processing epoch 7\n",
      " processing epoch 8\n",
      " processing epoch 9\n",
      " processing epoch 10\n",
      " processing epoch 11\n",
      " processing epoch 12\n",
      " processing epoch 13\n",
      " processing epoch 14\n",
      " processing epoch 15\n",
      " processing epoch 16\n",
      " processing epoch 17\n",
      " processing epoch 18\n",
      " processing epoch 19\n",
      " processing epoch 20\n",
      " processing epoch 21\n",
      " processing epoch 22\n",
      " processing epoch 23\n",
      " processing epoch 24\n",
      " processing epoch 25\n",
      " processing epoch 26\n",
      " processing epoch 27\n",
      " processing epoch 28\n",
      " processing epoch 29\n",
      " processing epoch 30\n",
      " processing epoch 31\n",
      " processing epoch 32\n",
      " processing epoch 33\n",
      " processing epoch 34\n",
      " processing epoch 35\n",
      " processing epoch 36\n",
      " processing epoch 37\n",
      " processing epoch 38\n",
      " processing epoch 39\n",
      " processing epoch 40\n",
      " processing epoch 41\n",
      " processing epoch 42\n",
      " processing epoch 43\n",
      " processing epoch 44\n",
      " processing epoch 45\n",
      " processing epoch 46\n",
      " processing epoch 47\n",
      " processing epoch 48\n",
      " processing epoch 49\n"
     ]
    }
   ],
   "source": [
    "algo = SVDpp()\n",
    "algo.n_factors = 2\n",
    "algo.n_epochs = 50\n",
    "algo.verbose = True\n",
    "algo.random_state = seed\n",
    "\n",
    "algo.fit(trainset)\n",
    "\n",
    "test_predictions_svdpp = algo.test(testset)"
   ]
  },
  {
   "cell_type": "code",
   "execution_count": 0,
   "metadata": {
    "colab": {},
    "colab_type": "code",
    "id": "4B_-vc5olP7x"
   },
   "outputs": [],
   "source": [
    "test_predictions_svdpp = np.asarray(test_predictions_svdpp)\n",
    "test_predictions_svdpp_filtered = test_predictions_svdpp[:, 3]"
   ]
  },
  {
   "cell_type": "markdown",
   "metadata": {
    "colab_type": "text",
    "id": "t3-fGeVu0Sjj"
   },
   "source": [
    "## Slope One"
   ]
  },
  {
   "cell_type": "code",
   "execution_count": 0,
   "metadata": {
    "colab": {},
    "colab_type": "code",
    "id": "pgbTdeZT1lwQ"
   },
   "outputs": [],
   "source": [
    "#SlopeOne\n",
    "algo = SlopeOne()\n",
    "algo.fit(trainset)\n",
    "\n",
    "test_predictions_slope = algo.test(testset)"
   ]
  },
  {
   "cell_type": "code",
   "execution_count": 0,
   "metadata": {
    "colab": {},
    "colab_type": "code",
    "id": "D5oy64bC2P8a"
   },
   "outputs": [],
   "source": [
    "test_predictions_slope = np.asarray(test_predictions_slope)\n",
    "test_predictions_slope_filtered = test_predictions_slope[:, 3]"
   ]
  },
  {
   "cell_type": "markdown",
   "metadata": {
    "colab_type": "text",
    "id": "6DAKzI200Ye_"
   },
   "source": [
    "## KNN Items"
   ]
  },
  {
   "cell_type": "code",
   "execution_count": 0,
   "metadata": {
    "colab": {
     "base_uri": "https://localhost:8080/",
     "height": 68
    },
    "colab_type": "code",
    "executionInfo": {
     "elapsed": 266339,
     "status": "ok",
     "timestamp": 1576409644395,
     "user": {
      "displayName": "Valentin Garnier",
      "photoUrl": "https://lh3.googleusercontent.com/a-/AAuE7mB7QGXgO4SjxTppzWKwvSYrbcCpHaVHwXah3Jd7=s64",
      "userId": "05650069634095051258"
     },
     "user_tz": -60
    },
    "id": "tzJVzciB2aSR",
    "outputId": "c2817f33-4927-4979-807d-e57752c5a454"
   },
   "outputs": [
    {
     "name": "stdout",
     "output_type": "stream",
     "text": [
      "Estimating biases using als...\n",
      "Computing the pearson_baseline similarity matrix...\n",
      "Done computing similarity matrix.\n"
     ]
    }
   ],
   "source": [
    "#KNN\n",
    "\n",
    "sim_options = {'name': 'pearson_baseline',\n",
    "               'user_based': False  # compute  similarities between items\n",
    "               }\n",
    "\n",
    "bsl_options = {'method': 'als',\n",
    "               'n_epochs': 50\n",
    "               }\n",
    "\n",
    "algo = KNNBasic(k=100, sim_options=sim_options, bsl_options=bsl_options)\n",
    "algo.fit(trainset)\n",
    "\n",
    "test_predictions_knn_items = algo.test(testset)"
   ]
  },
  {
   "cell_type": "code",
   "execution_count": 0,
   "metadata": {
    "colab": {},
    "colab_type": "code",
    "id": "3USTKLFo1wAw"
   },
   "outputs": [],
   "source": [
    "test_predictions_knn_items = np.asarray(test_predictions_knn_items)\n",
    "test_predictions_knn_items_filtered = test_predictions_knn_items[:, 3]"
   ]
  },
  {
   "cell_type": "markdown",
   "metadata": {
    "colab_type": "text",
    "id": "eSww-So-I5sL"
   },
   "source": [
    "## KNN Users"
   ]
  },
  {
   "cell_type": "code",
   "execution_count": 0,
   "metadata": {
    "colab": {
     "base_uri": "https://localhost:8080/",
     "height": 68
    },
    "colab_type": "code",
    "executionInfo": {
     "elapsed": 2619119,
     "status": "ok",
     "timestamp": 1576412000276,
     "user": {
      "displayName": "Valentin Garnier",
      "photoUrl": "https://lh3.googleusercontent.com/a-/AAuE7mB7QGXgO4SjxTppzWKwvSYrbcCpHaVHwXah3Jd7=s64",
      "userId": "05650069634095051258"
     },
     "user_tz": -60
    },
    "id": "yuQ4G1hUI7Xv",
    "outputId": "674b8d93-0827-4988-ac6e-52cdfb81cb0c"
   },
   "outputs": [
    {
     "name": "stdout",
     "output_type": "stream",
     "text": [
      "Estimating biases using als...\n",
      "Computing the pearson_baseline similarity matrix...\n",
      "Done computing similarity matrix.\n"
     ]
    }
   ],
   "source": [
    "#KNN users\n",
    "\n",
    "sim_options = {'name': 'pearson_baseline',\n",
    "               'user_based': True  # compute  similarities between users\n",
    "               }\n",
    "\n",
    "bsl_options = {'method': 'als',\n",
    "               'n_epochs': 50\n",
    "               }\n",
    "\n",
    "algo = KNNBasic(k=220, sim_options=sim_options, bsl_options=bsl_options)\n",
    "algo.fit(trainset)\n",
    "\n",
    "test_predictions_knn_users = algo.test(testset)"
   ]
  },
  {
   "cell_type": "code",
   "execution_count": 0,
   "metadata": {
    "colab": {},
    "colab_type": "code",
    "id": "R_-cVdkmI7rM"
   },
   "outputs": [],
   "source": [
    "test_predictions_knn_users = np.asarray(test_predictions_knn_users)\n",
    "test_predictions_knn_users_filtered = test_predictions_knn_users[:, 3]"
   ]
  },
  {
   "cell_type": "markdown",
   "metadata": {
    "colab_type": "text",
    "id": "X6wIgSQX0bls"
   },
   "source": [
    "## Baselines Only"
   ]
  },
  {
   "cell_type": "code",
   "execution_count": 16,
   "metadata": {
    "colab": {
     "base_uri": "https://localhost:8080/",
     "height": 34
    },
    "colab_type": "code",
    "executionInfo": {
     "elapsed": 12640,
     "status": "ok",
     "timestamp": 1576656766918,
     "user": {
      "displayName": "Valentin Garnier",
      "photoUrl": "https://lh3.googleusercontent.com/a-/AAuE7mB7QGXgO4SjxTppzWKwvSYrbcCpHaVHwXah3Jd7=s64",
      "userId": "05650069634095051258"
     },
     "user_tz": -60
    },
    "id": "uQB5Uw6v279Y",
    "outputId": "c2cf7807-a356-4463-ac4f-fe61a46e7ae5"
   },
   "outputs": [
    {
     "name": "stdout",
     "output_type": "stream",
     "text": [
      "Estimating biases using als...\n"
     ]
    }
   ],
   "source": [
    "#Baselines\n",
    "algo = BaselineOnly()\n",
    "algo.fit(trainset)\n",
    "\n",
    "test_predictions_baselines = algo.test(testset)"
   ]
  },
  {
   "cell_type": "code",
   "execution_count": 0,
   "metadata": {
    "colab": {},
    "colab_type": "code",
    "id": "z6jW9VG04EHz"
   },
   "outputs": [],
   "source": [
    "test_predictions_baselines = np.asarray(test_predictions_baselines)\n",
    "test_predictions_baselines_filtered = test_predictions_baselines[:, 3]"
   ]
  },
  {
   "cell_type": "markdown",
   "metadata": {
    "colab_type": "text",
    "id": "qKk8UfN-8Ato"
   },
   "source": [
    "## Global Mean"
   ]
  },
  {
   "cell_type": "code",
   "execution_count": 13,
   "metadata": {
    "colab": {},
    "colab_type": "code",
    "id": "wZQN1Nh28DdG"
   },
   "outputs": [],
   "source": [
    "test_predictions_global_filtered = globalMean(data, len(testset))"
   ]
  },
  {
   "cell_type": "markdown",
   "metadata": {
    "colab_type": "text",
    "id": "ES7q_lrCgl6v"
   },
   "source": [
    "## User Mean and Movie Mean"
   ]
  },
  {
   "cell_type": "code",
   "execution_count": 14,
   "metadata": {
    "colab": {},
    "colab_type": "code",
    "id": "d7UdAKa1kHSm"
   },
   "outputs": [],
   "source": [
    "copie_validation = testset.copy()\n",
    "\n",
    "validation_frame = pd.DataFrame(copie_validation)\n",
    "validation_frame.columns= ['userId', 'movieId', 'rating']"
   ]
  },
  {
   "cell_type": "code",
   "execution_count": 16,
   "metadata": {
    "colab": {},
    "colab_type": "code",
    "id": "5k_oTaG7h-C-"
   },
   "outputs": [],
   "source": [
    "test_predictions_users = userMean(cleanedFrame, validation_frame)\n",
    "test_predictions_items = itemMean(cleanedFrame, validation_frame)"
   ]
  },
  {
   "cell_type": "markdown",
   "metadata": {
    "colab_type": "text",
    "id": "9J1ROAiX3HfJ"
   },
   "source": [
    "## Matrix Factorization - ALS"
   ]
  },
  {
   "cell_type": "code",
   "execution_count": 12,
   "metadata": {
    "colab": {},
    "colab_type": "code",
    "id": "rCGqXGlZ3LPf"
   },
   "outputs": [],
   "source": [
    "import scipy\n",
    "import scipy.io\n",
    "import scipy.sparse as sp\n",
    "from als import *"
   ]
  },
  {
   "cell_type": "code",
   "execution_count": 13,
   "metadata": {
    "colab": {
     "base_uri": "https://localhost:8080/",
     "height": 51
    },
    "colab_type": "code",
    "executionInfo": {
     "elapsed": 9542,
     "status": "ok",
     "timestamp": 1576576157073,
     "user": {
      "displayName": "Valentin Garnier",
      "photoUrl": "https://lh3.googleusercontent.com/a-/AAuE7mB7QGXgO4SjxTppzWKwvSYrbcCpHaVHwXah3Jd7=s64",
      "userId": "05650069634095051258"
     },
     "user_tz": -60
    },
    "id": "Txw7xCH53Liq",
    "outputId": "0fbb2898-2bea-4cda-9737-8094a812f65c"
   },
   "outputs": [
    {
     "name": "stdout",
     "output_type": "stream",
     "text": [
      "number of items: 10000, number of users: 1000\n"
     ]
    },
    {
     "data": {
      "text/plain": [
       "(10000, 1000)"
      ]
     },
     "execution_count": 13,
     "metadata": {},
     "output_type": "execute_result"
    }
   ],
   "source": [
    "from helpers import load_data, preprocess_data\n",
    "path_dataset = \"Datasets/data_train.csv\"\n",
    "path_testset = \"testset_reordered.csv\"\n",
    "\n",
    "testset = pd.read_csv(path_testset)\n",
    "ratings = load_data(path_dataset)\n",
    "\n",
    "ratings.shape"
   ]
  },
  {
   "cell_type": "code",
   "execution_count": 14,
   "metadata": {
    "colab": {},
    "colab_type": "code",
    "id": "ZtoFpFmM3L0O"
   },
   "outputs": [],
   "source": [
    "testFrame = split3columns(testset)"
   ]
  },
  {
   "cell_type": "code",
   "execution_count": null,
   "metadata": {
    "colab": {
     "base_uri": "https://localhost:8080/",
     "height": 612
    },
    "colab_type": "code",
    "executionInfo": {
     "elapsed": 1503565,
     "status": "ok",
     "timestamp": 1576577677633,
     "user": {
      "displayName": "Valentin Garnier",
      "photoUrl": "https://lh3.googleusercontent.com/a-/AAuE7mB7QGXgO4SjxTppzWKwvSYrbcCpHaVHwXah3Jd7=s64",
      "userId": "05650069634095051258"
     },
     "user_tz": -60
    },
    "id": "wxH-vSeA3dSA",
    "outputId": "793bfb96-1bf1-4c0c-a0e0-28e485a3b308"
   },
   "outputs": [],
   "source": [
    "user, item = ALSWithoutTest(ratings)\n",
    "\n",
    "predictions = item.T.dot(user)\n",
    "getPredictionsInPlace(testFrame, predictions)\n",
    "test_predictions_als = testFrame['rating'].values"
   ]
  },
  {
   "cell_type": "markdown",
   "metadata": {
    "colab_type": "text",
    "id": "6n_WptmL0fqb"
   },
   "source": [
    "# Blending"
   ]
  },
  {
   "cell_type": "markdown",
   "metadata": {
    "colab_type": "text",
    "id": "JmDB7BmU0iE_"
   },
   "source": [
    "## Stacking Matrices for Regression"
   ]
  },
  {
   "cell_type": "code",
   "execution_count": 0,
   "metadata": {
    "colab": {},
    "colab_type": "code",
    "id": "zPnXiWGrIKtR"
   },
   "outputs": [],
   "source": [
    "stacked_test_predictions = np.column_stack((\n",
    "    test_predictions_svd_filtered,\n",
    "    test_predictions_svdpp_filtered,\n",
    "    test_predictions_slope_filtered, \n",
    "    test_predictions_knn_items_filtered,\n",
    "    test_predictions_knn_users_filtered, \n",
    "    test_predictions_baselines_filtered, \n",
    "    test_predictions_global_filtered,\n",
    "    test_predictions_users,\n",
    "    test_predictions_items,\n",
    "    test_predictions_svd_noB_filtered,\n",
    "    test_predictions_als\n",
    "    ))"
   ]
  },
  {
   "cell_type": "code",
   "execution_count": 0,
   "metadata": {
    "colab": {},
    "colab_type": "code",
    "id": "f-WCN-vH9moO"
   },
   "outputs": [],
   "source": [
    "stacked_test_pred = pd.DataFrame(stacked_test_predictions, columns=('Model1', 'Model2','Model3','Model4','Model5','Model6','Model7','Model8', 'Model9', 'Model10'))\n",
    "\n",
    "#predictions_test.to_csv(\"stacked_predictions_test_set.csv\", index=False)"
   ]
  },
  {
   "cell_type": "code",
   "execution_count": 0,
   "metadata": {
    "colab": {},
    "colab_type": "code",
    "id": "RU3zimBqRDvF"
   },
   "outputs": [],
   "source": [
    "#stacked_test_pred.to_csv(\"all_models.csv\", index = False)"
   ]
  },
  {
   "cell_type": "code",
   "execution_count": 9,
   "metadata": {
    "colab": {
     "base_uri": "https://localhost:8080/",
     "height": 255
    },
    "colab_type": "code",
    "executionInfo": {
     "elapsed": 5211,
     "status": "ok",
     "timestamp": 1576656587606,
     "user": {
      "displayName": "Valentin Garnier",
      "photoUrl": "https://lh3.googleusercontent.com/a-/AAuE7mB7QGXgO4SjxTppzWKwvSYrbcCpHaVHwXah3Jd7=s64",
      "userId": "05650069634095051258"
     },
     "user_tz": -60
    },
    "id": "AmBm6vEZTDWi",
    "outputId": "02caea4b-b2c4-4861-af3d-011095c430e7"
   },
   "outputs": [
    {
     "data": {
      "text/html": [
       "<div>\n",
       "<style scoped>\n",
       "    .dataframe tbody tr th:only-of-type {\n",
       "        vertical-align: middle;\n",
       "    }\n",
       "\n",
       "    .dataframe tbody tr th {\n",
       "        vertical-align: top;\n",
       "    }\n",
       "\n",
       "    .dataframe thead th {\n",
       "        text-align: right;\n",
       "    }\n",
       "</style>\n",
       "<table border=\"1\" class=\"dataframe\">\n",
       "  <thead>\n",
       "    <tr style=\"text-align: right;\">\n",
       "      <th></th>\n",
       "      <th>Model1</th>\n",
       "      <th>Model2</th>\n",
       "      <th>Model3</th>\n",
       "      <th>Model4</th>\n",
       "      <th>Model5</th>\n",
       "      <th>Model6</th>\n",
       "      <th>Model7</th>\n",
       "      <th>Model8</th>\n",
       "      <th>Model9</th>\n",
       "      <th>Model10</th>\n",
       "      <th>Model11</th>\n",
       "    </tr>\n",
       "  </thead>\n",
       "  <tbody>\n",
       "    <tr>\n",
       "      <th>0</th>\n",
       "      <td>2.800299</td>\n",
       "      <td>3.423191</td>\n",
       "      <td>3.245664</td>\n",
       "      <td>3.492773</td>\n",
       "      <td>3.365136</td>\n",
       "      <td>3.302156</td>\n",
       "      <td>3.857281</td>\n",
       "      <td>3.757732</td>\n",
       "      <td>3.379412</td>\n",
       "      <td>3.368650</td>\n",
       "      <td>3.340122</td>\n",
       "    </tr>\n",
       "    <tr>\n",
       "      <th>1</th>\n",
       "      <td>3.539154</td>\n",
       "      <td>3.747914</td>\n",
       "      <td>3.401494</td>\n",
       "      <td>3.538724</td>\n",
       "      <td>3.634538</td>\n",
       "      <td>3.472531</td>\n",
       "      <td>3.857281</td>\n",
       "      <td>3.757732</td>\n",
       "      <td>3.483586</td>\n",
       "      <td>3.657842</td>\n",
       "      <td>3.459546</td>\n",
       "    </tr>\n",
       "    <tr>\n",
       "      <th>2</th>\n",
       "      <td>3.042788</td>\n",
       "      <td>3.733271</td>\n",
       "      <td>3.491462</td>\n",
       "      <td>3.754376</td>\n",
       "      <td>3.599404</td>\n",
       "      <td>3.561174</td>\n",
       "      <td>3.857281</td>\n",
       "      <td>3.757732</td>\n",
       "      <td>3.559131</td>\n",
       "      <td>3.567374</td>\n",
       "      <td>3.633736</td>\n",
       "    </tr>\n",
       "    <tr>\n",
       "      <th>3</th>\n",
       "      <td>4.611626</td>\n",
       "      <td>4.613631</td>\n",
       "      <td>4.758424</td>\n",
       "      <td>3.771429</td>\n",
       "      <td>4.658548</td>\n",
       "      <td>4.732853</td>\n",
       "      <td>3.857281</td>\n",
       "      <td>3.757732</td>\n",
       "      <td>4.682770</td>\n",
       "      <td>4.912421</td>\n",
       "      <td>4.425757</td>\n",
       "    </tr>\n",
       "    <tr>\n",
       "      <th>4</th>\n",
       "      <td>4.199501</td>\n",
       "      <td>3.794656</td>\n",
       "      <td>4.035868</td>\n",
       "      <td>4.039176</td>\n",
       "      <td>4.148087</td>\n",
       "      <td>3.920052</td>\n",
       "      <td>3.857281</td>\n",
       "      <td>3.757732</td>\n",
       "      <td>3.877497</td>\n",
       "      <td>3.928373</td>\n",
       "      <td>4.294634</td>\n",
       "    </tr>\n",
       "  </tbody>\n",
       "</table>\n",
       "</div>"
      ],
      "text/plain": [
       "     Model1    Model2    Model3    Model4    Model5    Model6    Model7  \\\n",
       "0  2.800299  3.423191  3.245664  3.492773  3.365136  3.302156  3.857281   \n",
       "1  3.539154  3.747914  3.401494  3.538724  3.634538  3.472531  3.857281   \n",
       "2  3.042788  3.733271  3.491462  3.754376  3.599404  3.561174  3.857281   \n",
       "3  4.611626  4.613631  4.758424  3.771429  4.658548  4.732853  3.857281   \n",
       "4  4.199501  3.794656  4.035868  4.039176  4.148087  3.920052  3.857281   \n",
       "\n",
       "     Model8    Model9   Model10   Model11  \n",
       "0  3.757732  3.379412  3.368650  3.340122  \n",
       "1  3.757732  3.483586  3.657842  3.459546  \n",
       "2  3.757732  3.559131  3.567374  3.633736  \n",
       "3  3.757732  4.682770  4.912421  4.425757  \n",
       "4  3.757732  3.877497  3.928373  4.294634  "
      ]
     },
     "execution_count": 9,
     "metadata": {},
     "output_type": "execute_result"
    }
   ],
   "source": [
    "path = \"SafeguardModels/all_models_updated_by_tintin.csv\"\n",
    "stacked_test_pred = pd.read_csv(path)\n",
    "\n",
    "stacked_test_pred.head(5)"
   ]
  },
  {
   "cell_type": "code",
   "execution_count": 22,
   "metadata": {
    "colab": {
     "base_uri": "https://localhost:8080/",
     "height": 204
    },
    "colab_type": "code",
    "executionInfo": {
     "elapsed": 891,
     "status": "ok",
     "timestamp": 1576656601247,
     "user": {
      "displayName": "Valentin Garnier",
      "photoUrl": "https://lh3.googleusercontent.com/a-/AAuE7mB7QGXgO4SjxTppzWKwvSYrbcCpHaVHwXah3Jd7=s64",
      "userId": "05650069634095051258"
     },
     "user_tz": -60
    },
    "id": "ASfWVEaHOwkV",
    "outputId": "1839d659-7735-48dd-91ef-2ef2c732b106"
   },
   "outputs": [
    {
     "data": {
      "text/html": [
       "<div>\n",
       "<style scoped>\n",
       "    .dataframe tbody tr th:only-of-type {\n",
       "        vertical-align: middle;\n",
       "    }\n",
       "\n",
       "    .dataframe tbody tr th {\n",
       "        vertical-align: top;\n",
       "    }\n",
       "\n",
       "    .dataframe thead th {\n",
       "        text-align: right;\n",
       "    }\n",
       "</style>\n",
       "<table border=\"1\" class=\"dataframe\">\n",
       "  <thead>\n",
       "    <tr style=\"text-align: right;\">\n",
       "      <th></th>\n",
       "      <th>Model1</th>\n",
       "      <th>Model2</th>\n",
       "      <th>Model3</th>\n",
       "      <th>Model5</th>\n",
       "      <th>Model11</th>\n",
       "    </tr>\n",
       "  </thead>\n",
       "  <tbody>\n",
       "    <tr>\n",
       "      <th>0</th>\n",
       "      <td>2.800299</td>\n",
       "      <td>3.423191</td>\n",
       "      <td>3.245664</td>\n",
       "      <td>3.365136</td>\n",
       "      <td>3.340122</td>\n",
       "    </tr>\n",
       "    <tr>\n",
       "      <th>1</th>\n",
       "      <td>3.539154</td>\n",
       "      <td>3.747914</td>\n",
       "      <td>3.401494</td>\n",
       "      <td>3.634538</td>\n",
       "      <td>3.459546</td>\n",
       "    </tr>\n",
       "    <tr>\n",
       "      <th>2</th>\n",
       "      <td>3.042788</td>\n",
       "      <td>3.733271</td>\n",
       "      <td>3.491462</td>\n",
       "      <td>3.599404</td>\n",
       "      <td>3.633736</td>\n",
       "    </tr>\n",
       "    <tr>\n",
       "      <th>3</th>\n",
       "      <td>4.611626</td>\n",
       "      <td>4.613631</td>\n",
       "      <td>4.758424</td>\n",
       "      <td>4.658548</td>\n",
       "      <td>4.425757</td>\n",
       "    </tr>\n",
       "    <tr>\n",
       "      <th>4</th>\n",
       "      <td>4.199501</td>\n",
       "      <td>3.794656</td>\n",
       "      <td>4.035868</td>\n",
       "      <td>4.148087</td>\n",
       "      <td>4.294634</td>\n",
       "    </tr>\n",
       "  </tbody>\n",
       "</table>\n",
       "</div>"
      ],
      "text/plain": [
       "     Model1    Model2    Model3    Model5   Model11\n",
       "0  2.800299  3.423191  3.245664  3.365136  3.340122\n",
       "1  3.539154  3.747914  3.401494  3.634538  3.459546\n",
       "2  3.042788  3.733271  3.491462  3.599404  3.633736\n",
       "3  4.611626  4.613631  4.758424  4.658548  4.425757\n",
       "4  4.199501  3.794656  4.035868  4.148087  4.294634"
      ]
     },
     "execution_count": 22,
     "metadata": {},
     "output_type": "execute_result"
    }
   ],
   "source": [
    "best_models = stacked_test_pred.drop(columns=['Model9','Model10','Model7','Model6', 'Model8', 'Model4'])\n",
    "stacked_test_pred_matrix = best_models.values\n",
    "\n",
    "best_models.head()"
   ]
  },
  {
   "cell_type": "markdown",
   "metadata": {
    "colab_type": "text",
    "id": "_FmOFaeJXJmj"
   },
   "source": [
    "# FEATURE EXPANSION"
   ]
  },
  {
   "cell_type": "code",
   "execution_count": 23,
   "metadata": {
    "colab": {},
    "colab_type": "code",
    "id": "8d-bWOhgXJXY"
   },
   "outputs": [],
   "source": [
    "from sklearn.preprocessing import PolynomialFeatures"
   ]
  },
  {
   "cell_type": "code",
   "execution_count": 24,
   "metadata": {
    "colab": {
     "base_uri": "https://localhost:8080/",
     "height": 34
    },
    "colab_type": "code",
    "executionInfo": {
     "elapsed": 3014,
     "status": "ok",
     "timestamp": 1576656613879,
     "user": {
      "displayName": "Valentin Garnier",
      "photoUrl": "https://lh3.googleusercontent.com/a-/AAuE7mB7QGXgO4SjxTppzWKwvSYrbcCpHaVHwXah3Jd7=s64",
      "userId": "05650069634095051258"
     },
     "user_tz": -60
    },
    "id": "OcUNCf8-XMb3",
    "outputId": "6ec763ae-c959-448f-b53a-543fc32c7969"
   },
   "outputs": [
    {
     "name": "stdout",
     "output_type": "stream",
     "text": [
      "(1176952, 21)\n"
     ]
    }
   ],
   "source": [
    "poly = PolynomialFeatures(2, interaction_only=False)\n",
    "stacked_test_pred_matrix = poly.fit_transform(stacked_test_pred_matrix)\n",
    "print(stacked_test_pred_matrix.shape)"
   ]
  },
  {
   "cell_type": "code",
   "execution_count": 26,
   "metadata": {
    "colab": {
     "base_uri": "https://localhost:8080/",
     "height": 34
    },
    "colab_type": "code",
    "executionInfo": {
     "elapsed": 431,
     "status": "ok",
     "timestamp": 1576656739935,
     "user": {
      "displayName": "Valentin Garnier",
      "photoUrl": "https://lh3.googleusercontent.com/a-/AAuE7mB7QGXgO4SjxTppzWKwvSYrbcCpHaVHwXah3Jd7=s64",
      "userId": "05650069634095051258"
     },
     "user_tz": -60
    },
    "id": "7teFT4ZyFj5T",
    "outputId": "8f6fff8d-ae0d-4b8b-cb5d-ee7b57618595"
   },
   "outputs": [
    {
     "name": "stdout",
     "output_type": "stream",
     "text": [
      "(1176952,)\n"
     ]
    }
   ],
   "source": [
    "#Optimizing Ridge\n",
    "\n",
    "#take wegight from other notebook (Wal gridsearch where we have a nice validation set)\n",
    "\n",
    "#[-0.02929543, 0.01457075, -0.04980906, 0.07152574, 0.10773192, -0.42889598, 0.02829179, -0.03883807, -0.06810742, -0.02929543, 1.45256044]\n",
    "\n",
    "weights_opt = np.array([-0.17923809, -0.03935357, 0.70417789, 0.44809754, 0.15431007, -0.18328223,\n",
    "-0.03569493, -0.1124291, 0.05629898, 0.11490597, 0.03757874, -0.0012857,\n",
    "-0.29291099, 0.31410882, -0.02909084, 0.10501579, -0.7052538, 0.54222923,\n",
    "0.41087739, -0.4606938, 0.04983795])\n",
    "\n",
    "targets = stacked_test_pred_matrix.dot(weights_opt)\n",
    "targets = np.clip(targets, 1, 5)\n",
    "\n",
    "targets = np.asarray(targets)\n",
    "targets_rounded = np.around(targets.astype(np.double))\n",
    "\n",
    "print(targets_rounded.shape)\n"
   ]
  },
  {
   "cell_type": "markdown",
   "metadata": {
    "colab_type": "text",
    "id": "HV2aU_0_0pTV"
   },
   "source": [
    "# Build Final Output Frame"
   ]
  },
  {
   "cell_type": "code",
   "execution_count": 27,
   "metadata": {
    "colab": {
     "base_uri": "https://localhost:8080/",
     "height": 255
    },
    "colab_type": "code",
    "executionInfo": {
     "elapsed": 7936,
     "status": "ok",
     "timestamp": 1576656777795,
     "user": {
      "displayName": "Valentin Garnier",
      "photoUrl": "https://lh3.googleusercontent.com/a-/AAuE7mB7QGXgO4SjxTppzWKwvSYrbcCpHaVHwXah3Jd7=s64",
      "userId": "05650069634095051258"
     },
     "user_tz": -60
    },
    "id": "3NYaW1yq3h6y",
    "outputId": "e779af09-3d48-43d7-98db-e52e99d77f26"
   },
   "outputs": [],
   "source": [
    "result_blending = reconstructSampleSubmissionFormat(test_predictions_baselines, targets_rounded)"
   ]
  },
  {
   "cell_type": "code",
   "execution_count": 28,
   "metadata": {
    "colab": {},
    "colab_type": "code",
    "id": "sv_cbUxH66M9"
   },
   "outputs": [],
   "source": [
    "result_blending.to_csv(\"result_blending_1145.csv\", index = False)"
   ]
  },
  {
   "cell_type": "code",
   "execution_count": 0,
   "metadata": {
    "colab": {},
    "colab_type": "code",
    "id": "yLVGDzvjfKMB"
   },
   "outputs": [],
   "source": []
  }
 ],
 "metadata": {
  "colab": {
   "collapsed_sections": [
    "o5bszYIo0Pus",
    "wHmk2vfDQicZ",
    "iqjT35rhlFIB",
    "t3-fGeVu0Sjj",
    "6DAKzI200Ye_",
    "eSww-So-I5sL",
    "X6wIgSQX0bls",
    "qKk8UfN-8Ato",
    "ES7q_lrCgl6v",
    "9J1ROAiX3HfJ",
    "JmDB7BmU0iE_"
   ],
   "name": "BlendModels.ipynb",
   "provenance": [],
   "toc_visible": true
  },
  "kernelspec": {
   "display_name": "Python 3",
   "language": "python",
   "name": "python3"
  },
  "language_info": {
   "codemirror_mode": {
    "name": "ipython",
    "version": 3
   },
   "file_extension": ".py",
   "mimetype": "text/x-python",
   "name": "python",
   "nbconvert_exporter": "python",
   "pygments_lexer": "ipython3",
   "version": "3.7.3"
  }
 },
 "nbformat": 4,
 "nbformat_minor": 1
}
