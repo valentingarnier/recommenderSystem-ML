{
 "cells": [
  {
   "cell_type": "markdown",
   "metadata": {
    "colab_type": "text",
    "id": "Tpbqx3HL01PE"
   },
   "source": [
    "# Tools Installation"
   ]
  },
  {
   "cell_type": "code",
   "execution_count": 1,
   "metadata": {
    "colab": {
     "base_uri": "https://localhost:8080/",
     "height": 275
    },
    "colab_type": "code",
    "executionInfo": {
     "elapsed": 36695,
     "status": "ok",
     "timestamp": 1576656498906,
     "user": {
      "displayName": "Valentin Garnier",
      "photoUrl": "https://lh3.googleusercontent.com/a-/AAuE7mB7QGXgO4SjxTppzWKwvSYrbcCpHaVHwXah3Jd7=s64",
      "userId": "05650069634095051258"
     },
     "user_tz": -60
    },
    "id": "ukDl5AgdfUib",
    "outputId": "dd7ee977-a4e1-4aae-c621-ac39a317ef34"
   },
   "outputs": [
    {
     "name": "stdout",
     "output_type": "stream",
     "text": [
      "Requirement already satisfied: scikit-surprise in /Users/valentingarnier/anaconda3/lib/python3.7/site-packages (1.1.0)\n",
      "Requirement already satisfied: numpy>=1.11.2 in /Users/valentingarnier/anaconda3/lib/python3.7/site-packages (from scikit-surprise) (1.16.2)\n",
      "Requirement already satisfied: six>=1.10.0 in /Users/valentingarnier/anaconda3/lib/python3.7/site-packages (from scikit-surprise) (1.12.0)\n",
      "Requirement already satisfied: scipy>=1.0.0 in /Users/valentingarnier/anaconda3/lib/python3.7/site-packages (from scikit-surprise) (1.2.1)\n",
      "Requirement already satisfied: joblib>=0.11 in /Users/valentingarnier/anaconda3/lib/python3.7/site-packages (from scikit-surprise) (0.14.0)\n"
     ]
    }
   ],
   "source": [
    "!pip install scikit-surprise"
   ]
  },
  {
   "cell_type": "code",
   "execution_count": 1,
   "metadata": {
    "colab": {
     "base_uri": "https://localhost:8080/",
     "height": 54
    },
    "colab_type": "code",
    "executionInfo": {
     "elapsed": 779,
     "status": "ok",
     "timestamp": 1576658587265,
     "user": {
      "displayName": "Valentin Garnier",
      "photoUrl": "https://lh3.googleusercontent.com/a-/AAuE7mB7QGXgO4SjxTppzWKwvSYrbcCpHaVHwXah3Jd7=s64",
      "userId": "05650069634095051258"
     },
     "user_tz": -60
    },
    "id": "v7OK93Rofpi6",
    "outputId": "6232adc5-0b84-40de-83e3-6a8014620697"
   },
   "outputs": [],
   "source": [
    "import pandas as pd\n",
    "import re\n",
    "import numpy as np\n",
    "import random\n",
    "import scipy\n",
    "import scipy.io\n",
    "import scipy.sparse as sp"
   ]
  },
  {
   "cell_type": "code",
   "execution_count": 2,
   "metadata": {
    "colab": {},
    "colab_type": "code",
    "id": "ctZU1CHRxmXb"
   },
   "outputs": [],
   "source": [
    "from surprise import NormalPredictor\n",
    "from surprise import Dataset\n",
    "from surprise import Reader\n",
    "from surprise.model_selection import cross_validate\n",
    "from surprise import accuracy\n",
    "from surprise import SVD\n",
    "from surprise import SVDpp\n",
    "from surprise import KNNBaseline\n",
    "from surprise import KNNBasic\n",
    "from surprise import SlopeOne\n",
    "from surprise import CoClustering\n",
    "from surprise import BaselineOnly\n",
    "from surprise import NMF\n",
    "from surprise.model_selection import train_test_split\n",
    "\n",
    "from sklearn.linear_model import LinearRegression\n",
    "from sklearn.linear_model import Ridge\n",
    "from sklearn.linear_model import RidgeCV\n",
    "from sklearn.model_selection import train_test_split\n",
    "from sklearn.model_selection import KFold as skFold\n",
    "\n",
    "from implementations import *\n",
    "from als import *"
   ]
  },
  {
   "cell_type": "markdown",
   "metadata": {
    "colab_type": "text",
    "id": "B04H_9Cz04aA"
   },
   "source": [
    "# Work On Given Data"
   ]
  },
  {
   "cell_type": "code",
   "execution_count": null,
   "metadata": {
    "colab": {
     "base_uri": "https://localhost:8080/",
     "height": 255
    },
    "colab_type": "code",
    "executionInfo": {
     "elapsed": 2330,
     "status": "ok",
     "timestamp": 1576658606963,
     "user": {
      "displayName": "Valentin Garnier",
      "photoUrl": "https://lh3.googleusercontent.com/a-/AAuE7mB7QGXgO4SjxTppzWKwvSYrbcCpHaVHwXah3Jd7=s64",
      "userId": "05650069634095051258"
     },
     "user_tz": -60
    },
    "id": "1eHol4m_0Xh5",
    "outputId": "4fdaa64b-a1c2-40e4-b277-5d2d18640eae"
   },
   "outputs": [],
   "source": [
    "data = pd.read_csv(\"Datasets/data_train.csv\")\n",
    "sample = pd.read_csv(\"Datasets/sample_submission.csv\")\n",
    "\n",
    "seed = 211 # as exercice 10\n",
    "random.seed = seed"
   ]
  },
  {
   "cell_type": "markdown",
   "metadata": {},
   "source": [
    "This is to provide data in the format surprise library wants it to be."
   ]
  },
  {
   "cell_type": "code",
   "execution_count": null,
   "metadata": {
    "colab": {
     "base_uri": "https://localhost:8080/",
     "height": 221
    },
    "colab_type": "code",
    "executionInfo": {
     "elapsed": 7137,
     "status": "ok",
     "timestamp": 1576659044074,
     "user": {
      "displayName": "Valentin Garnier",
      "photoUrl": "https://lh3.googleusercontent.com/a-/AAuE7mB7QGXgO4SjxTppzWKwvSYrbcCpHaVHwXah3Jd7=s64",
      "userId": "05650069634095051258"
     },
     "user_tz": -60
    },
    "id": "4DijImES0nT3",
    "outputId": "2e14a718-56da-4535-fedd-ff3d3e2c9eaf"
   },
   "outputs": [],
   "source": [
    "cleanedFrame = split3columns(data)\n",
    "sampleFrame = split3columns(sample)"
   ]
  },
  {
   "cell_type": "code",
   "execution_count": 6,
   "metadata": {
    "colab": {},
    "colab_type": "code",
    "id": "td3r1V-d0pqP"
   },
   "outputs": [],
   "source": [
    "reader = Reader(rating_scale=(1, 5))\n",
    "\n",
    "#Here we call surprise function \n",
    "\n",
    "dataCleaned = Dataset.load_from_df(cleanedFrame[['userId', 'movieId', 'rating']], reader)\n",
    "sampleCleaned = Dataset.load_from_df(sampleFrame[['userId', 'movieId', 'rating']], reader)"
   ]
  },
  {
   "cell_type": "markdown",
   "metadata": {
    "colab_type": "text",
    "id": "Nk4JM21S07l1"
   },
   "source": [
    "## Build Trainsets and Testsets"
   ]
  },
  {
   "cell_type": "code",
   "execution_count": 7,
   "metadata": {
    "colab": {},
    "colab_type": "code",
    "id": "j264m42_0rab"
   },
   "outputs": [],
   "source": [
    "trainset = dataCleaned.build_full_trainset()\n",
    "testset = sampleCleaned.build_full_trainset().build_testset()"
   ]
  },
  {
   "cell_type": "markdown",
   "metadata": {},
   "source": [
    "Here we need to do that because surprise build_testset()\n",
    "modify the order of original testset hence, for ALS algorithm we need to\n",
    "reorder it."
   ]
  },
  {
   "cell_type": "code",
   "execution_count": 18,
   "metadata": {},
   "outputs": [],
   "source": [
    "testset_reordered = reorderTestset(testset)\n",
    "testset_reordered.to_csv(\"testset_reordered.csv\", index = False) "
   ]
  },
  {
   "cell_type": "markdown",
   "metadata": {
    "colab_type": "text",
    "id": "PUhqEkRB0Kdp"
   },
   "source": [
    "# Train Algorithms"
   ]
  },
  {
   "cell_type": "markdown",
   "metadata": {},
   "source": [
    "Based on each gridsearch, we apply the same parameters for each algorithms on \n",
    "sample test set to get individual predictions."
   ]
  },
  {
   "cell_type": "markdown",
   "metadata": {
    "colab_type": "text",
    "id": "o5bszYIo0Pus"
   },
   "source": [
    "## SVD"
   ]
  },
  {
   "cell_type": "code",
   "execution_count": null,
   "metadata": {
    "colab": {
     "base_uri": "https://localhost:8080/",
     "height": 1000
    },
    "colab_type": "code",
    "executionInfo": {
     "elapsed": 3128983,
     "status": "ok",
     "timestamp": 1576412521813,
     "user": {
      "displayName": "Valentin Garnier",
      "photoUrl": "https://lh3.googleusercontent.com/a-/AAuE7mB7QGXgO4SjxTppzWKwvSYrbcCpHaVHwXah3Jd7=s64",
      "userId": "05650069634095051258"
     },
     "user_tz": -60
    },
    "id": "sWNiWEv20v8J",
    "outputId": "5933c19e-5a3f-4bb5-c060-7ed988367958"
   },
   "outputs": [],
   "source": [
    "#SVD with baselines\n",
    "\n",
    "algo = SVD()\n",
    "algo.n_factors = 400\n",
    "algo.verbose = False\n",
    "algo.biased = True\n",
    "algo.reg_all = 0.1\n",
    "algo.lr_all = 0.01\n",
    "algo.n_epochs = 500\n",
    "algo.random_state = seed\n",
    "\n",
    "print(\"Training SVD...\")\n",
    "algo.fit(trainset)\n",
    "\n",
    "print(\"Computing predictions for SVD... \\n\")\n",
    "test_predictions_svd = algo.test(testset) #Get real predictions to append to big final matrix"
   ]
  },
  {
   "cell_type": "code",
   "execution_count": 0,
   "metadata": {
    "colab": {},
    "colab_type": "code",
    "id": "usJNB-VM2cor"
   },
   "outputs": [],
   "source": [
    "test_predictions_svd = np.asarray(test_predictions_svd)\n",
    "test_predictions_svd_filtered = test_predictions_svd[:, 3]"
   ]
  },
  {
   "cell_type": "markdown",
   "metadata": {
    "colab_type": "text",
    "id": "wHmk2vfDQicZ"
   },
   "source": [
    "## SVD Without Baselines"
   ]
  },
  {
   "cell_type": "code",
   "execution_count": null,
   "metadata": {
    "colab": {
     "base_uri": "https://localhost:8080/",
     "height": 1000
    },
    "colab_type": "code",
    "executionInfo": {
     "elapsed": 487120,
     "status": "ok",
     "timestamp": 1576413118786,
     "user": {
      "displayName": "Valentin Garnier",
      "photoUrl": "https://lh3.googleusercontent.com/a-/AAuE7mB7QGXgO4SjxTppzWKwvSYrbcCpHaVHwXah3Jd7=s64",
      "userId": "05650069634095051258"
     },
     "user_tz": -60
    },
    "id": "i2YEDS2HQlJY",
    "outputId": "b57c2253-673b-4ccd-f492-a770871a21e6"
   },
   "outputs": [],
   "source": [
    "#SVD without baselines\n",
    "\n",
    "algo = SVD()\n",
    "algo.n_factors = 1\n",
    "algo.verbose = False\n",
    "algo.biased = False\n",
    "algo.reg_all = 0.001 # from gridsearch in other notebook\n",
    "algo.lr_all = 0.01\n",
    "algo.n_epochs = 500\n",
    "algo.random_state = seed\n",
    "\n",
    "print(\"Training SVD no baselines...\")\n",
    "algo.fit(trainset)\n",
    "\n",
    "print(\"Computing predictions for SVD no baselines...\\n\")\n",
    "test_predictions_svd_noB = algo.test(testset) #Get real predictions to append to big final matrix"
   ]
  },
  {
   "cell_type": "code",
   "execution_count": 0,
   "metadata": {
    "colab": {},
    "colab_type": "code",
    "id": "gg6rytmlQldO"
   },
   "outputs": [],
   "source": [
    "test_predictions_svd_noB = np.asarray(test_predictions_svd_noB)\n",
    "test_predictions_svd_noB_filtered = test_predictions_svd_noB[:, 3]"
   ]
  },
  {
   "cell_type": "markdown",
   "metadata": {
    "colab_type": "text",
    "id": "iqjT35rhlFIB"
   },
   "source": [
    "## SVD++"
   ]
  },
  {
   "cell_type": "code",
   "execution_count": null,
   "metadata": {
    "colab": {
     "base_uri": "https://localhost:8080/",
     "height": 867
    },
    "colab_type": "code",
    "executionInfo": {
     "elapsed": 3395840,
     "status": "ok",
     "timestamp": 1576409179514,
     "user": {
      "displayName": "Valentin Garnier",
      "photoUrl": "https://lh3.googleusercontent.com/a-/AAuE7mB7QGXgO4SjxTppzWKwvSYrbcCpHaVHwXah3Jd7=s64",
      "userId": "05650069634095051258"
     },
     "user_tz": -60
    },
    "id": "-R0TdPXQlHE_",
    "outputId": "d85dfef4-2337-46de-bf28-e180e16ad933"
   },
   "outputs": [],
   "source": [
    "algo = SVDpp()\n",
    "algo.n_factors = 2\n",
    "algo.n_epochs = 50\n",
    "algo.verbose = True\n",
    "algo.random_state = seed\n",
    "\n",
    "print(\"Training SVD++...\")\n",
    "algo.fit(trainset)\n",
    "\n",
    "print(\"Computing predictions for SVD++...\\n\")\n",
    "test_predictions_svdpp = algo.test(testset)"
   ]
  },
  {
   "cell_type": "code",
   "execution_count": 0,
   "metadata": {
    "colab": {},
    "colab_type": "code",
    "id": "4B_-vc5olP7x"
   },
   "outputs": [],
   "source": [
    "test_predictions_svdpp = np.asarray(test_predictions_svdpp)\n",
    "test_predictions_svdpp_filtered = test_predictions_svdpp[:, 3]"
   ]
  },
  {
   "cell_type": "markdown",
   "metadata": {
    "colab_type": "text",
    "id": "t3-fGeVu0Sjj"
   },
   "source": [
    "## Slope One"
   ]
  },
  {
   "cell_type": "code",
   "execution_count": 0,
   "metadata": {
    "colab": {},
    "colab_type": "code",
    "id": "pgbTdeZT1lwQ"
   },
   "outputs": [],
   "source": [
    "#SlopeOne\n",
    "algo = SlopeOne()\n",
    "\n",
    "print(\"Training Slope One...\")\n",
    "algo.fit(trainset)\n",
    "\n",
    "print(\"Computing predictions for Slope One...\\n\")\n",
    "\n",
    "test_predictions_slope = algo.test(testset)"
   ]
  },
  {
   "cell_type": "code",
   "execution_count": 0,
   "metadata": {
    "colab": {},
    "colab_type": "code",
    "id": "D5oy64bC2P8a"
   },
   "outputs": [],
   "source": [
    "test_predictions_slope = np.asarray(test_predictions_slope)\n",
    "test_predictions_slope_filtered = test_predictions_slope[:, 3]"
   ]
  },
  {
   "cell_type": "markdown",
   "metadata": {
    "colab_type": "text",
    "id": "6DAKzI200Ye_"
   },
   "source": [
    "## KNN Items"
   ]
  },
  {
   "cell_type": "code",
   "execution_count": null,
   "metadata": {
    "colab": {
     "base_uri": "https://localhost:8080/",
     "height": 68
    },
    "colab_type": "code",
    "executionInfo": {
     "elapsed": 266339,
     "status": "ok",
     "timestamp": 1576409644395,
     "user": {
      "displayName": "Valentin Garnier",
      "photoUrl": "https://lh3.googleusercontent.com/a-/AAuE7mB7QGXgO4SjxTppzWKwvSYrbcCpHaVHwXah3Jd7=s64",
      "userId": "05650069634095051258"
     },
     "user_tz": -60
    },
    "id": "tzJVzciB2aSR",
    "outputId": "c2817f33-4927-4979-807d-e57752c5a454"
   },
   "outputs": [],
   "source": [
    "#KNN\n",
    "\n",
    "sim_options = {'name': 'pearson_baseline',\n",
    "               'user_based': False  # compute  similarities between items\n",
    "               }\n",
    "\n",
    "bsl_options = {'method': 'als',\n",
    "               'n_epochs': 50\n",
    "               }\n",
    "\n",
    "algo = KNNBasic(k=220, sim_options=sim_options, bsl_options=bsl_options)\n",
    "print(\"Training KNN Items...\")\n",
    "algo.fit(trainset)\n",
    "\n",
    "print(\"Computing predictions for KNN Items...\\n\")\n",
    "\n",
    "test_predictions_knn_items = algo.test(testset)"
   ]
  },
  {
   "cell_type": "code",
   "execution_count": 0,
   "metadata": {
    "colab": {},
    "colab_type": "code",
    "id": "3USTKLFo1wAw"
   },
   "outputs": [],
   "source": [
    "test_predictions_knn_items = np.asarray(test_predictions_knn_items)\n",
    "test_predictions_knn_items_filtered = test_predictions_knn_items[:, 3]"
   ]
  },
  {
   "cell_type": "markdown",
   "metadata": {
    "colab_type": "text",
    "id": "eSww-So-I5sL"
   },
   "source": [
    "## KNN Users"
   ]
  },
  {
   "cell_type": "code",
   "execution_count": null,
   "metadata": {
    "colab": {
     "base_uri": "https://localhost:8080/",
     "height": 68
    },
    "colab_type": "code",
    "executionInfo": {
     "elapsed": 2619119,
     "status": "ok",
     "timestamp": 1576412000276,
     "user": {
      "displayName": "Valentin Garnier",
      "photoUrl": "https://lh3.googleusercontent.com/a-/AAuE7mB7QGXgO4SjxTppzWKwvSYrbcCpHaVHwXah3Jd7=s64",
      "userId": "05650069634095051258"
     },
     "user_tz": -60
    },
    "id": "yuQ4G1hUI7Xv",
    "outputId": "674b8d93-0827-4988-ac6e-52cdfb81cb0c"
   },
   "outputs": [],
   "source": [
    "#KNN users\n",
    "\n",
    "sim_options = {'name': 'pearson_baseline',\n",
    "               'user_based': True  # compute  similarities between users\n",
    "               }\n",
    "\n",
    "bsl_options = {'method': 'als',\n",
    "               'n_epochs': 50\n",
    "               }\n",
    "\n",
    "algo = KNNBasic(k=220, sim_options=sim_options, bsl_options=bsl_options)\n",
    "\n",
    "print(\"Training KNN Users...\")\n",
    "algo.fit(trainset)\n",
    "\n",
    "print(\"Computing predictions for KNN Users...\\n\")\n",
    "\n",
    "test_predictions_knn_users = algo.test(testset)"
   ]
  },
  {
   "cell_type": "code",
   "execution_count": 44,
   "metadata": {
    "colab": {},
    "colab_type": "code",
    "id": "R_-cVdkmI7rM"
   },
   "outputs": [],
   "source": [
    "test_predictions_knn_users = np.asarray(test_predictions_knn_users)\n",
    "test_predictions_knn_users_filtered = test_predictions_knn_users[:, 3]"
   ]
  },
  {
   "cell_type": "markdown",
   "metadata": {
    "colab_type": "text",
    "id": "X6wIgSQX0bls"
   },
   "source": [
    "## Baselines Only"
   ]
  },
  {
   "cell_type": "code",
   "execution_count": null,
   "metadata": {
    "colab": {
     "base_uri": "https://localhost:8080/",
     "height": 34
    },
    "colab_type": "code",
    "executionInfo": {
     "elapsed": 12640,
     "status": "ok",
     "timestamp": 1576656766918,
     "user": {
      "displayName": "Valentin Garnier",
      "photoUrl": "https://lh3.googleusercontent.com/a-/AAuE7mB7QGXgO4SjxTppzWKwvSYrbcCpHaVHwXah3Jd7=s64",
      "userId": "05650069634095051258"
     },
     "user_tz": -60
    },
    "id": "uQB5Uw6v279Y",
    "outputId": "c2cf7807-a356-4463-ac4f-fe61a46e7ae5"
   },
   "outputs": [],
   "source": [
    "#Baselines\n",
    "algo = BaselineOnly()\n",
    "print(\"Training Baselines...\")\n",
    "algo.fit(trainset)\n",
    "\n",
    "print(\"Computing predictions for Baselines...\\n\")\n",
    "test_predictions_baselines = algo.test(testset)"
   ]
  },
  {
   "cell_type": "code",
   "execution_count": 0,
   "metadata": {
    "colab": {},
    "colab_type": "code",
    "id": "z6jW9VG04EHz"
   },
   "outputs": [],
   "source": [
    "test_predictions_baselines = np.asarray(test_predictions_baselines)\n",
    "test_predictions_baselines_filtered = test_predictions_baselines[:, 3]"
   ]
  },
  {
   "cell_type": "markdown",
   "metadata": {
    "colab_type": "text",
    "id": "qKk8UfN-8Ato"
   },
   "source": [
    "## Global Mean"
   ]
  },
  {
   "cell_type": "code",
   "execution_count": 13,
   "metadata": {
    "colab": {},
    "colab_type": "code",
    "id": "wZQN1Nh28DdG"
   },
   "outputs": [],
   "source": [
    "print(\"Computing Global Mean...\\n\")\n",
    "test_predictions_global_filtered = globalMean(data, len(testset))"
   ]
  },
  {
   "cell_type": "markdown",
   "metadata": {
    "colab_type": "text",
    "id": "ES7q_lrCgl6v"
   },
   "source": [
    "## User Mean and Movie Mean"
   ]
  },
  {
   "cell_type": "code",
   "execution_count": 14,
   "metadata": {
    "colab": {},
    "colab_type": "code",
    "id": "d7UdAKa1kHSm"
   },
   "outputs": [],
   "source": [
    "copie_validation = testset.copy()\n",
    "\n",
    "validation_frame = pd.DataFrame(copie_validation)\n",
    "validation_frame.columns= ['userId', 'movieId', 'rating']"
   ]
  },
  {
   "cell_type": "code",
   "execution_count": 16,
   "metadata": {
    "colab": {},
    "colab_type": "code",
    "id": "5k_oTaG7h-C-"
   },
   "outputs": [],
   "source": [
    "print(\"Computing User mean & Movie mean...\\n\")\n",
    "test_predictions_users = userMean(cleanedFrame, validation_frame)\n",
    "test_predictions_items = itemMean(cleanedFrame, validation_frame)"
   ]
  },
  {
   "cell_type": "markdown",
   "metadata": {
    "colab_type": "text",
    "id": "9J1ROAiX3HfJ"
   },
   "source": [
    "## Matrix Factorization - ALS"
   ]
  },
  {
   "cell_type": "code",
   "execution_count": null,
   "metadata": {
    "colab": {
     "base_uri": "https://localhost:8080/",
     "height": 51
    },
    "colab_type": "code",
    "executionInfo": {
     "elapsed": 9542,
     "status": "ok",
     "timestamp": 1576576157073,
     "user": {
      "displayName": "Valentin Garnier",
      "photoUrl": "https://lh3.googleusercontent.com/a-/AAuE7mB7QGXgO4SjxTppzWKwvSYrbcCpHaVHwXah3Jd7=s64",
      "userId": "05650069634095051258"
     },
     "user_tz": -60
    },
    "id": "Txw7xCH53Liq",
    "outputId": "0fbb2898-2bea-4cda-9737-8094a812f65c"
   },
   "outputs": [],
   "source": [
    "from helpers import load_data, preprocess_data\n",
    "path_dataset = \"Datasets/data_train.csv\"\n",
    "path_testset = \"testset_reordered.csv\"\n",
    "\n",
    "testset = pd.read_csv(path_testset)\n",
    "ratings = load_data(path_dataset)\n",
    "\n",
    "ratings.shape"
   ]
  },
  {
   "cell_type": "code",
   "execution_count": 14,
   "metadata": {
    "colab": {},
    "colab_type": "code",
    "id": "ZtoFpFmM3L0O"
   },
   "outputs": [],
   "source": [
    "testFrame = split3columns(testset)"
   ]
  },
  {
   "cell_type": "code",
   "execution_count": null,
   "metadata": {
    "colab": {
     "base_uri": "https://localhost:8080/",
     "height": 612
    },
    "colab_type": "code",
    "executionInfo": {
     "elapsed": 1503565,
     "status": "ok",
     "timestamp": 1576577677633,
     "user": {
      "displayName": "Valentin Garnier",
      "photoUrl": "https://lh3.googleusercontent.com/a-/AAuE7mB7QGXgO4SjxTppzWKwvSYrbcCpHaVHwXah3Jd7=s64",
      "userId": "05650069634095051258"
     },
     "user_tz": -60
    },
    "id": "wxH-vSeA3dSA",
    "outputId": "793bfb96-1bf1-4c0c-a0e0-28e485a3b308"
   },
   "outputs": [],
   "source": [
    "print(\"Computing Matrix Factorization with ALS...\\n\")\n",
    "user, item = ALSWithoutTest(ratings)\n",
    "\n",
    "predictions = item.T.dot(user)\n",
    "getPredictionsInPlace(testFrame, predictions)\n",
    "test_predictions_als = testFrame['rating'].values"
   ]
  },
  {
   "cell_type": "markdown",
   "metadata": {
    "colab_type": "text",
    "id": "6n_WptmL0fqb"
   },
   "source": [
    "# Blending"
   ]
  },
  {
   "cell_type": "markdown",
   "metadata": {
    "colab_type": "text",
    "id": "JmDB7BmU0iE_"
   },
   "source": [
    "## Stacking Matrices for Regression"
   ]
  },
  {
   "cell_type": "markdown",
   "metadata": {},
   "source": [
    "After many submissions, we notices that stacking every algorithms wasn't optimal. Only\n",
    "a few was optimal: SVD, SVD++, KNN Users, ALS and Item Mean. Notice that they represent a mix\n",
    "of 3 different classes of algorithms: Matrix Factorization, Clustering, Statistics. Blending will\n",
    "take the best of each."
   ]
  },
  {
   "cell_type": "code",
   "execution_count": 0,
   "metadata": {
    "colab": {},
    "colab_type": "code",
    "id": "zPnXiWGrIKtR"
   },
   "outputs": [],
   "source": [
    "stacked_test_predictions = np.column_stack((\n",
    "    test_predictions_svd_filtered,\n",
    "    test_predictions_svdpp_filtered,\n",
    "    test_predictions_slope_filtered, \n",
    "    test_predictions_knn_items_filtered,\n",
    "    test_predictions_knn_users_filtered, \n",
    "    test_predictions_baselines_filtered, \n",
    "    test_predictions_global_filtered,\n",
    "    test_predictions_users,\n",
    "    test_predictions_items,\n",
    "    test_predictions_svd_noB_filtered,\n",
    "    test_predictions_als\n",
    "    ))\n",
    "\n",
    "print(\"Stacking only best models...\\n\")\n",
    "stacked_test_pred_matrix = np.column_stack((\n",
    "    test_predictions_svd_filtered,\n",
    "    test_predictions_svdpp_filtered,\n",
    "    test_predictions_knn_users_filtered, \n",
    "    test_predictions_als\n",
    "    ))"
   ]
  },
  {
   "cell_type": "code",
   "execution_count": 0,
   "metadata": {
    "colab": {},
    "colab_type": "code",
    "id": "f-WCN-vH9moO"
   },
   "outputs": [],
   "source": [
    "#stacked_test_pred = pd.DataFrame(stacked_test_predictions, columns=('Model1', 'Model2','Model3','Model4','Model5','Model6','Model7','Model8', 'Model9', 'Model10'))\n",
    "\n",
    "#predictions_test.to_csv(\"stacked_predictions_test_set.csv\", index=False)"
   ]
  },
  {
   "cell_type": "code",
   "execution_count": 0,
   "metadata": {
    "colab": {},
    "colab_type": "code",
    "id": "RU3zimBqRDvF"
   },
   "outputs": [],
   "source": [
    "#stacked_test_pred.to_csv(\"all_models.csv\", index = False)"
   ]
  },
  {
   "cell_type": "code",
   "execution_count": null,
   "metadata": {
    "colab": {
     "base_uri": "https://localhost:8080/",
     "height": 255
    },
    "colab_type": "code",
    "executionInfo": {
     "elapsed": 5211,
     "status": "ok",
     "timestamp": 1576656587606,
     "user": {
      "displayName": "Valentin Garnier",
      "photoUrl": "https://lh3.googleusercontent.com/a-/AAuE7mB7QGXgO4SjxTppzWKwvSYrbcCpHaVHwXah3Jd7=s64",
      "userId": "05650069634095051258"
     },
     "user_tz": -60
    },
    "id": "AmBm6vEZTDWi",
    "outputId": "02caea4b-b2c4-4861-af3d-011095c430e7"
   },
   "outputs": [],
   "source": [
    "#path = \"SafeguardModels/all_models_updated_by_tintin.csv\"\n",
    "#stacked_test_pred = pd.read_csv(path)\n",
    "\n",
    "#stacked_test_pred.head(5)"
   ]
  },
  {
   "cell_type": "code",
   "execution_count": null,
   "metadata": {
    "colab": {
     "base_uri": "https://localhost:8080/",
     "height": 204
    },
    "colab_type": "code",
    "executionInfo": {
     "elapsed": 891,
     "status": "ok",
     "timestamp": 1576656601247,
     "user": {
      "displayName": "Valentin Garnier",
      "photoUrl": "https://lh3.googleusercontent.com/a-/AAuE7mB7QGXgO4SjxTppzWKwvSYrbcCpHaVHwXah3Jd7=s64",
      "userId": "05650069634095051258"
     },
     "user_tz": -60
    },
    "id": "ASfWVEaHOwkV",
    "outputId": "1839d659-7735-48dd-91ef-2ef2c732b106"
   },
   "outputs": [],
   "source": [
    "#best_models = stacked_test_pred.drop(columns=['Model6','Model10','Model7','Model3', 'Model4', 'Model9','Model8'])\n",
    "#stacked_test_pred_matrix = best_models.values\n",
    "\n",
    "#best_models.head()"
   ]
  },
  {
   "cell_type": "markdown",
   "metadata": {
    "colab_type": "text",
    "id": "_FmOFaeJXJmj"
   },
   "source": [
    "# Feature Expansion"
   ]
  },
  {
   "cell_type": "markdown",
   "metadata": {},
   "source": [
    "We apply feature expansion from Scikit."
   ]
  },
  {
   "cell_type": "code",
   "execution_count": 69,
   "metadata": {
    "colab": {},
    "colab_type": "code",
    "id": "8d-bWOhgXJXY"
   },
   "outputs": [],
   "source": [
    "from sklearn.preprocessing import PolynomialFeatures"
   ]
  },
  {
   "cell_type": "markdown",
   "metadata": {},
   "source": [
    "It would be great if we could do a grid search on the degree but we had not enough time for that."
   ]
  },
  {
   "cell_type": "code",
   "execution_count": 70,
   "metadata": {
    "colab": {
     "base_uri": "https://localhost:8080/",
     "height": 34
    },
    "colab_type": "code",
    "executionInfo": {
     "elapsed": 3014,
     "status": "ok",
     "timestamp": 1576656613879,
     "user": {
      "displayName": "Valentin Garnier",
      "photoUrl": "https://lh3.googleusercontent.com/a-/AAuE7mB7QGXgO4SjxTppzWKwvSYrbcCpHaVHwXah3Jd7=s64",
      "userId": "05650069634095051258"
     },
     "user_tz": -60
    },
    "id": "OcUNCf8-XMb3",
    "outputId": "6ec763ae-c959-448f-b53a-543fc32c7969"
   },
   "outputs": [
    {
     "name": "stdout",
     "output_type": "stream",
     "text": [
      "(1176952, 15)\n"
     ]
    }
   ],
   "source": [
    "print(\"Feature expansion of degre 2 on data matrix...\")\n",
    "\n",
    "poly = PolynomialFeatures(2, interaction_only=False)\n",
    "stacked_test_pred_matrix = poly.fit_transform(stacked_test_pred_matrix)\n",
    "\n",
    "print(\"done. Here is the new shape: \")\n",
    "print(stacked_test_pred_matrix.shape)"
   ]
  },
  {
   "cell_type": "markdown",
   "metadata": {},
   "source": [
    "Take the weights from the validation set which performed a cross validation of ridge regression\n",
    "on a matrix of predictions."
   ]
  },
  {
   "cell_type": "code",
   "execution_count": 73,
   "metadata": {
    "colab": {
     "base_uri": "https://localhost:8080/",
     "height": 34
    },
    "colab_type": "code",
    "executionInfo": {
     "elapsed": 431,
     "status": "ok",
     "timestamp": 1576656739935,
     "user": {
      "displayName": "Valentin Garnier",
      "photoUrl": "https://lh3.googleusercontent.com/a-/AAuE7mB7QGXgO4SjxTppzWKwvSYrbcCpHaVHwXah3Jd7=s64",
      "userId": "05650069634095051258"
     },
     "user_tz": -60
    },
    "id": "7teFT4ZyFj5T",
    "outputId": "8f6fff8d-ae0d-4b8b-cb5d-ee7b57618595"
   },
   "outputs": [
    {
     "name": "stdout",
     "output_type": "stream",
     "text": [
      "(1176952,)\n"
     ]
    }
   ],
   "source": [
    "\n",
    "#take wegight from other notebook (validationset_gridsearch where we have a nice validation set)\n",
    "weights_opt = np.array([-1.79605641e-01, -7.63823414e-02, 7.09880620e-01, 6.40220837e-01,\n",
    "-1.89104275e-01, -4.68966506e-02, -6.71453589e-02, 2.24760590e-01,\n",
    "-2.05275807e-02, -5.50000332e-04, -4.41913407e-02, -1.24416930e-02,\n",
    "-1.89475553e-01, 7.94738754e-02, 7.06314694e-02])\n",
    "\n",
    "print(\"Multiply with weights from validation set...\")\n",
    "targets = stacked_test_pred_matrix.dot(weights_opt)\n",
    "targets = np.clip(targets, 1, 5)\n",
    "print(\"done. \\n\")\n",
    "targets = np.asarray(targets)\n",
    "targets_rounded = np.around(targets.astype(np.double))\n",
    "\n",
    "print(targets_rounded.shape)\n"
   ]
  },
  {
   "cell_type": "markdown",
   "metadata": {
    "colab_type": "text",
    "id": "HV2aU_0_0pTV"
   },
   "source": [
    "# Build Final Output Frame"
   ]
  },
  {
   "cell_type": "code",
   "execution_count": 74,
   "metadata": {
    "colab": {
     "base_uri": "https://localhost:8080/",
     "height": 255
    },
    "colab_type": "code",
    "executionInfo": {
     "elapsed": 7936,
     "status": "ok",
     "timestamp": 1576656777795,
     "user": {
      "displayName": "Valentin Garnier",
      "photoUrl": "https://lh3.googleusercontent.com/a-/AAuE7mB7QGXgO4SjxTppzWKwvSYrbcCpHaVHwXah3Jd7=s64",
      "userId": "05650069634095051258"
     },
     "user_tz": -60
    },
    "id": "3NYaW1yq3h6y",
    "outputId": "e779af09-3d48-43d7-98db-e52e99d77f26"
   },
   "outputs": [],
   "source": [
    "print(\"Building submission file.\\n\")\n",
    "\n",
    "result_blending = reconstructSampleSubmissionFormat(test_predictions_baselines, targets_rounded)"
   ]
  },
  {
   "cell_type": "code",
   "execution_count": 75,
   "metadata": {
    "colab": {},
    "colab_type": "code",
    "id": "sv_cbUxH66M9"
   },
   "outputs": [],
   "source": [
    "result_blending.to_csv(\"result_blending_expanded.csv\", index = False)"
   ]
  },
  {
   "cell_type": "code",
   "execution_count": null,
   "metadata": {},
   "outputs": [],
   "source": []
  }
 ],
 "metadata": {
  "colab": {
   "collapsed_sections": [
    "o5bszYIo0Pus",
    "wHmk2vfDQicZ",
    "iqjT35rhlFIB",
    "t3-fGeVu0Sjj",
    "6DAKzI200Ye_",
    "eSww-So-I5sL",
    "X6wIgSQX0bls",
    "qKk8UfN-8Ato",
    "ES7q_lrCgl6v",
    "9J1ROAiX3HfJ",
    "JmDB7BmU0iE_"
   ],
   "name": "BlendModels.ipynb",
   "provenance": [],
   "toc_visible": true
  },
  "kernelspec": {
   "display_name": "Python 3",
   "language": "python",
   "name": "python3"
  },
  "language_info": {
   "codemirror_mode": {
    "name": "ipython",
    "version": 3
   },
   "file_extension": ".py",
   "mimetype": "text/x-python",
   "name": "python",
   "nbconvert_exporter": "python",
   "pygments_lexer": "ipython3",
   "version": "3.7.3"
  }
 },
 "nbformat": 4,
 "nbformat_minor": 1
}
